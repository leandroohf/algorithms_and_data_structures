{
 "cells": [
  {
   "cell_type": "markdown",
   "metadata": {},
   "source": [
    "# Tree\n",
    "\n",
    "In this notebook we will introduce some Tree concepts but the main focus of this notebook is to learn about **Binary Tree**\n",
    "\n",
    "Refs:\n",
    "* https://stackoverflow.com/questions/2598437/how-to-implement-a-binary-tree\n",
    "* https://www.geeksforgeeks.org/binary-search-tree-data-structure/\n",
    "* https://www.geeksforgeeks.org/bfs-vs-dfs-binary-tree/\n",
    "* https://www.khanacademy.org/computer-programming/depth-first-traversals-of-binary-trees/934024358 (with animation)\n",
    "* https://www.geeksforgeeks.org/level-order-tree-traversal/\n",
    "* Pypi package binary tree: \n",
    "    * https://github.com/joowani/binarytree\n",
    "    * https://pypi.org/project/binarytree/\n",
    "\n",
    "\n",
    "Summary complexity:\n",
    "\n",
    "* Binary search tree (**BST**) has some similarities with sorted array. For instance, a BST if all elements relies in one branch is similar to sorted array\n",
    "    * So, **insertion** and **deletion** has the same time complexity as **sorted array**\n",
    "    * But **search** is different because the BST can NOT partition the data in 2 pieces like in the **sorted array**\n",
    "\n",
    "\n",
    "| Data structure     | AVG Search | AVG Insert | AVG Deletion | Worst Search | Worst Insert | Worst Deletion | Space complexity | Comm                                                              |\n",
    "|------------------- | ---------- | ---------- | ------------ | ------------ | ------------ | -------------- | ---------------- | ------------------------------------------------------------------|\n",
    "| Sorted array       | O(log n)   | O(n)       | O(n)         | O(log n)     | N/A          | N/A            | O(n)             |                                                                   |\n",
    "| Binary Search Tree | O(log n)   | O(log n)   | O(log n)     | O(n)         | O(n)         | O(n)           | O(n)             | Tree is one branch. similar to sorted array for insert n deletion |\n",
    "\n",
    "\n",
    "* To traverse the tree we need to visit all nodes so time complexity is always O(n)\n",
    "\n",
    "\n",
    "| Algo | Time complexity | Space Complexity |\n",
    "|----- | --------------- | -----------------|\n",
    "| DFS  | O(n)            | O(h)             |\n",
    "| BSF  | O(n)            | O(w)             |\n"
   ]
  },
  {
   "cell_type": "markdown",
   "metadata": {},
   "source": [
    "## Intro\n",
    "\n",
    "Some tree data structure definitions\n",
    "\n",
    "* the first Node is always the **root** \n",
    "* Nodes in the midle are called **child** \n",
    "* Node without child in the bottom are called **leaves**\n",
    "* Nodes in the same level are called **simblings** \n",
    "* Branch or path: Nodes A, B n G are in the same branch and the A,C,F are in another branch\n",
    "* level: The Node A (root) is in the level 0 and the Nodes B, C and E are in the level 1.\n",
    "* height: is the largest path form root to a leaf.\n",
    "    * In the tree below the height is 4\n",
    "    * $h = l +1$"
   ]
  },
  {
   "cell_type": "markdown",
   "metadata": {},
   "source": [
    "Example of Tree (PS: It is not Binary tree but it has all the terms described above)\n",
    "\n",
    "<a id='tree_example'></a>\n",
    "<img src=\"./images/tree_example.png\" alt=\"\" width=\"500\" height=\"400\">"
   ]
  },
  {
   "cell_type": "code",
   "execution_count": 7,
   "metadata": {},
   "outputs": [],
   "source": [
    "from collections import deque\n",
    "\n",
    "import IPython\n",
    "from IPython.core.interactiveshell import InteractiveShell\n",
    "InteractiveShell.ast_node_interactivity = \"all\""
   ]
  },
  {
   "cell_type": "markdown",
   "metadata": {},
   "source": [
    "## Binary tree "
   ]
  },
  {
   "cell_type": "markdown",
   "metadata": {},
   "source": [
    "A binary tree is a tree where each node has at most 2 child. A Binary Tree node contains following parts.\n",
    "\n",
    "Data\n",
    "Pointer to left child\n",
    "Pointer to right child\n",
    "\n",
    "**TODO** Review properties  <===\n",
    "Properties:\n",
    "\n",
    "* The max number of Nodes per level is given by: $2^l$\n",
    "* Max number of Nodes in binary tree: $2^h - 1$\n",
    "* In binary tree with $N$ Nodes. The minimum possible height:\n",
    "\n",
    "$ \n",
    "N = 2^h - 1 \\\\\n",
    "2^h = N + 1 \\\\\n",
    "h = log_2(N+1) \\\\\n",
    "$"
   ]
  },
  {
   "cell_type": "markdown",
   "metadata": {},
   "source": [
    "**Binary Tree Examples:**\n",
    "\n",
    "<a id='bnary_tree_example'></a>\n",
    "<img src=\"./images/binary_tree.png\" alt=\"\" width=\"300\" height=\"400\">"
   ]
  },
  {
   "cell_type": "markdown",
   "metadata": {},
   "source": [
    "Also it is important to know some especial cases because they are related to possible worst case scenarios when determine time and space complexity\n",
    "\n",
    "**Full binary tree**\n",
    "\n",
    "* Every node except the leaves has 2 child.\n",
    "\n",
    "<a id='full_binary_tree'></a>\n",
    "<img src=\"./images/full_binary_tree.jpg\" alt=\"\" width=\"300\" height=\"400\">"
   ]
  },
  {
   "cell_type": "markdown",
   "metadata": {},
   "source": [
    "**Complete binary tree**\n",
    "\n",
    "* Every level is completely full except the last or level with leaves, and are node are far left as possible\n",
    "\n",
    "<a id='complete_binary_tree'></a>\n",
    "<img src=\"./images/complete_binary_tree.jpg\" alt=\"\" width=\"300\" height=\"400\">"
   ]
  },
  {
   "cell_type": "markdown",
   "metadata": {},
   "source": [
    "**Skewed Tree**\n",
    "\n",
    "* Has only one branch \n",
    "\n",
    "\n",
    "<a id='skewed_binary_tree'></a>\n",
    "<img src=\"./images/skewed_binary_tree.png\" alt=\"\" width=\"500\" height=\"400\">\n"
   ]
  },
  {
   "cell_type": "markdown",
   "metadata": {},
   "source": [
    "###  Traversal binary trees\n",
    "\n",
    "A tree can be traversed in many different ways:"
   ]
  },
  {
   "cell_type": "markdown",
   "metadata": {},
   "source": [
    "<a id='traversal_binary_tree_example'></a>\n",
    "<img src=\"./images/traversals_binary_trees.png\" alt=\"\" width=\"800\" height=\"400\">"
   ]
  },
  {
   "cell_type": "markdown",
   "metadata": {},
   "source": [
    "<a id='dfs_bsf_example'></a>\n",
    "\n",
    "<img src=\"./images/dfs_bfs2.png\" alt=\"\" width=\"800\" height=\"300\">"
   ]
  },
  {
   "cell_type": "markdown",
   "metadata": {},
   "source": [
    "1. **DFS: Depth First Search** \n",
    " \n",
    "    1. In-order (LNR)\n",
    "        * In the [Binary tree example](#bnary_tree_example) in the next sections: 1, 3, 4, 6, 7, 8, 10, 13, 14 \n",
    "        * always produces **sorted output**\n",
    "        * **Used in deleteion**\n",
    "        \n",
    "    1. Pre-order  (NLR). ***Hint Pre mean visit node first and then process in order LR** <- for memorization\n",
    "        * In the [Binary tree example](#bnary_tree_example) in the next sections: 8, 3, 1, 6, 4, 7, 10, 14, 13  \n",
    "        * **Root** is always the first element\n",
    "        \n",
    "    1. Reverse in-order (RNL) \n",
    "    \n",
    "    1. Post-order (LRN). ***Hint Post mean visit node last and then process in order LR** <- for memorization\n",
    "        * In [Binary tree example](#bnary_tree_example)in the next sections: 1, 4, 7, 6, 3, 13, 14,10, 8  \n",
    "        * **Root** is always the last element\n",
    "\n",
    "\n",
    "1. **BFS: Breath Search First**\n",
    "\n",
    "    * Trees can also be traversed in level-order, where we visit every node on a level before going to a lower level. **Hint  this the one you want to print a tree**"
   ]
  },
  {
   "cell_type": "markdown",
   "metadata": {},
   "source": [
    "## Binary Search Tree\n",
    "\n",
    "Binary Search Tree is a node-based binary tree data structure which has the following properties:\n",
    "    \n",
    "* The left subtree of a node contains only nodes with keys lesser than the node’s key\n",
    "* The right subtree of a node contains only nodes with keys greater than the node’s key\n",
    "* The left and right subtree each must also be a binary search tree\n"
   ]
  },
  {
   "cell_type": "markdown",
   "metadata": {},
   "source": [
    "**Binary Search Tree example:**\n",
    "\n",
    "<a id='bnary_search_tree_example'></a>\n",
    "<img src=\"./images/BSTSearch.png\" alt=\"\" width=\"300\" height=\"400\">"
   ]
  },
  {
   "cell_type": "markdown",
   "metadata": {},
   "source": [
    "**Properties**\n",
    "\n",
    "ref: https://math.stackexchange.com/questions/519943/number-of-binary-trees-with-n-nodes\n",
    "\n",
    "* Total number of possible BST given a list of nodes ([Catalan number](https://en.wikipedia.org/wiki/Catalan_number) )\n",
    "\n",
    "$\n",
    "nBST(n) = \\frac{1}{n+1} C^{2n}_n \\\\\n",
    "= \\frac{1}{n+1} \\frac{(2n)!}{n!(2n-n)!} \\\\\n",
    "= \\frac{(2n)!}{(n+1)n!(n)!}\n",
    "= \\frac{(2n)!}{(n+1)!n!}\n",
    "$\n",
    "\n",
    "* The total number of Binary Trees (nBT(n) > nBST(n)):\n",
    "\n",
    "    **This is based on the fact that for each possible BST configuration , there is n! ways to order the n nodes**  \n",
    "\n",
    "$\n",
    "nBT(n) = nBST(n) n! \\\\\n",
    "= \\frac{(2n)!}{(n+1)!n!} n!\n",
    "= \\frac{(2n)!}{(n+1)!}\n",
    "$\n"
   ]
  },
  {
   "cell_type": "markdown",
   "metadata": {},
   "source": [
    "### BST operations\n"
   ]
  },
  {
   "cell_type": "markdown",
   "metadata": {},
   "source": [
    "#### Search and insert \n",
    "\n",
    "For search and insert the Time complexity is\n",
    "\n",
    "* O(h)\n",
    "* Worst case when the tree is not balanced all nodels is in one branch; O(n)\n"
   ]
  },
  {
   "cell_type": "markdown",
   "metadata": {},
   "source": [
    "**Search**\n",
    "\n",
    "1. Start from the root. \n",
    "1. Compare the element with root, if less than root, then recurse for left, else recurse for right. \n",
    "1. If the element is found, return true, else false\n",
    "    \n",
    "    \n",
    "```python \n",
    "\n",
    "def search(self, val):\n",
    "    \n",
    "    if root is not None:\n",
    "        \n",
    "        return self._recursive_search(root, val)\n",
    "    \n",
    "    else:\n",
    "        \n",
    "        return None\n",
    "    \n",
    "def _recursive_search(self, node, val):\n",
    "\n",
    "    # Found \n",
    "    if val == node.val:\n",
    "        \n",
    "        return node \n",
    "    \n",
    "    # search right \n",
    "    elif val > node.val:\n",
    "        \n",
    "        return self._recursive_search(node.right, val)\n",
    "        \n",
    "    # search right \n",
    "    else:\n",
    "        \n",
    "        return self._recursive_search(node.left, val)\n",
    "```"
   ]
  },
  {
   "cell_type": "markdown",
   "metadata": {},
   "source": [
    "**Insert**\n",
    "\n",
    "1. Start from. \n",
    "1. Search left if new val less than the node or right otherwise\n",
    "1. We insert the lement when we reach a leaf Node. We always insert in a leaf node\n",
    "   \n",
    "```python\n",
    "\n",
    "    def add(self, val):\n",
    "        \n",
    "        if self.root is None:\n",
    "            \n",
    "            self.root = node(val)\n",
    "            \n",
    "        else:\n",
    "            \n",
    "            self._add_recursive(val, self.root)\n",
    "\n",
    "            \n",
    "    def _add_recursive(self, node, val):\n",
    "        \n",
    "        if val < node.val:\n",
    "            \n",
    "            if node.left is not None:\n",
    "                self._add(val, node.l)\n",
    "            else:\n",
    "                node.left = node(val)\n",
    "        else:\n",
    "            \n",
    "            if node.right is not None:\n",
    "                \n",
    "                self._add(val, node.right)\n",
    "                \n",
    "            else:\n",
    "                \n",
    "                node.right = node(val)\n",
    "        \n",
    "            \n",
    "```\n"
   ]
  },
  {
   "cell_type": "markdown",
   "metadata": {},
   "source": [
    "#### Delete (Harder than the others)\n"
   ]
  },
  {
   "cell_type": "markdown",
   "metadata": {},
   "source": [
    "\n",
    "* **Node to be deleted is leaf**: Simply remove from the tree.\n",
    "    \n",
    "    ```text\n",
    "             50                            50\n",
    "           /     \\         delete(20)      /   \\\n",
    "          30      70       --------->    30     70 \n",
    "         /  \\    /  \\                     \\    /  \\ \n",
    "       20   40  60   80                   40  60   80\n",
    "\n",
    "    ```\n",
    "    \n",
    "* **Node to be deleted has only one child**: Copy the child to the node and delete the child \n",
    "    \n",
    "     \n",
    "    ```text\n",
    "              50                            50\n",
    "           /     \\         delete(30)      /   \\\n",
    "          30      70       --------->    40     70 \n",
    "            \\    /  \\                          /  \\ \n",
    "            40  60   80                       60   80\n",
    "\n",
    "    ```\n",
    "    \n",
    "* **Node to be deleted has two children**: Find inorder successor of the node. Copy contents of the inorder successor to the node and delete the inorder successor. Note that inorder predecessor can also be used. \n",
    "    \n",
    "     \n",
    "    ```text\n",
    "              50                            60\n",
    "           /     \\         delete(50)      /   \\\n",
    "          40      70       --------->    40    70 \n",
    "                 /  \\                            \\ \n",
    "                60   80                           80\n",
    "\n",
    "    ```   \n",
    " \n",
    " \n",
    "```python\n",
    "\n",
    "\n",
    "    def delete(self,val):\n",
    "        \n",
    "        if self.root is not none\n",
    "        \n",
    "        \n",
    "            return self._recursive_delete(self.root, val)\n",
    "        \n",
    "        else:\n",
    "            \n",
    "            return False\n",
    "        \n",
    "        \n",
    "    def _recursive_delete(self, Node, val):\n",
    "        \n",
    "        \n",
    "        if val < Node.key:\n",
    "            \n",
    "            return self._recursive_delete(Node.left, val)\n",
    "            \n",
    "        elif val > Node.key\n",
    "\n",
    "            return self._recursive_delete(Node.right, val)\n",
    "            \n",
    "        else:\n",
    "            \n",
    "            # Node with only one child or no child\n",
    "            if Node.left is None:\n",
    "                \n",
    "                temp = Node.right\n",
    "                Node = None\n",
    "                \n",
    "                return temp\n",
    " \n",
    "            elif Node.right is None:\n",
    "                \n",
    "                temp = Node.left\n",
    "                Node = None\n",
    "                \n",
    "            return temp\n",
    " \n",
    "        ## XXX; PAREI AQUI  <==================================\n",
    "        # Node with two children: \n",
    "        # Get the inorder successor\n",
    "        # (smallest in the right subtree)\n",
    "        temp = minValueNode(root.right)\n",
    " \n",
    "        # Copy the inorder successor's \n",
    "        # content to this node\n",
    "        root.key = temp.key\n",
    " \n",
    "        # Delete the inorder successor\n",
    "        root.right = deleteNode(root.right, temp.key)\n",
    "        \n",
    "```\n",
    "    "
   ]
  },
  {
   "cell_type": "markdown",
   "metadata": {},
   "source": [
    "### BST Implementation"
   ]
  },
  {
   "cell_type": "markdown",
   "metadata": {},
   "source": [
    "ref: https://stackoverflow.com/questions/23487307/python-deque-vs-list-performance-comparison\n",
    "\n",
    "\n",
    "**Note about the difference between array tha supports queue operations in python vs dqueu (double-ended queue)**\n",
    "\n",
    "\n",
    "* array: insert in the begin and pop from the begin is O(n)\n",
    "    * arrays as stack has no difference from deque.\n",
    "* deque: insert and remove from both sides is O(1)\n",
    "\n",
    "\n",
    "```python\n",
    "\n",
    "# deque: fifo (queue)\n",
    "d.append(x)  # insert at the end\n",
    "d.appendleft() # insert in the begin\n",
    "x = d.popleft() # remove from the begin\n",
    "\n",
    "\n",
    "# deque: lifo (stack)\n",
    "# for stack array has similar performance\n",
    "d.append(x) \n",
    "x = d.pop()  # remove from the end \n",
    "```"
   ]
  },
  {
   "cell_type": "code",
   "execution_count": 68,
   "metadata": {},
   "outputs": [
    {
     "data": {
      "text/plain": [
       "3"
      ]
     },
     "execution_count": 68,
     "metadata": {},
     "output_type": "execute_result"
    },
    {
     "data": {
      "text/plain": [
       "deque([1])"
      ]
     },
     "execution_count": 68,
     "metadata": {},
     "output_type": "execute_result"
    },
    {
     "data": {
      "text/plain": [
       "1"
      ]
     },
     "execution_count": 68,
     "metadata": {},
     "output_type": "execute_result"
    },
    {
     "data": {
      "text/plain": [
       "deque([])"
      ]
     },
     "execution_count": 68,
     "metadata": {},
     "output_type": "execute_result"
    },
    {
     "name": "stdout",
     "output_type": "stream",
     "text": [
      "len queue: 0\n"
     ]
    },
    {
     "data": {
      "text/plain": [
       "3"
      ]
     },
     "execution_count": 68,
     "metadata": {},
     "output_type": "execute_result"
    },
    {
     "data": {
      "text/plain": [
       "1"
      ]
     },
     "execution_count": 68,
     "metadata": {},
     "output_type": "execute_result"
    },
    {
     "data": {
      "text/plain": [
       "[]"
      ]
     },
     "execution_count": 68,
     "metadata": {},
     "output_type": "execute_result"
    },
    {
     "name": "stdout",
     "output_type": "stream",
     "text": [
      "len queue: 0\n",
      "stacks\n"
     ]
    },
    {
     "data": {
      "text/plain": [
       "1"
      ]
     },
     "execution_count": 68,
     "metadata": {},
     "output_type": "execute_result"
    },
    {
     "data": {
      "text/plain": [
       "[3]"
      ]
     },
     "execution_count": 68,
     "metadata": {},
     "output_type": "execute_result"
    },
    {
     "data": {
      "text/plain": [
       "3"
      ]
     },
     "execution_count": 68,
     "metadata": {},
     "output_type": "execute_result"
    },
    {
     "data": {
      "text/plain": [
       "[]"
      ]
     },
     "execution_count": 68,
     "metadata": {},
     "output_type": "execute_result"
    },
    {
     "name": "stdout",
     "output_type": "stream",
     "text": [
      "len stack: 0\n"
     ]
    }
   ],
   "source": [
    "queue = deque([3,1])\n",
    "\n",
    "queue.popleft()\n",
    "queue\n",
    "queue.popleft()\n",
    "\n",
    "queue\n",
    "print(f\"len queue: {len(queue)}\")\n",
    "\n",
    "if queue:\n",
    "    \n",
    "    print(\"I am defined\")\n",
    "    \n",
    "if len(queue) > 0:\n",
    "    \n",
    "    print(\"I am defined\")\n",
    "    \n",
    "queue = [3,1]\n",
    "\n",
    "queue.pop(0)\n",
    "queue.pop(0)\n",
    "queue\n",
    "\n",
    "print(f\"len queue: {len(queue)}\")\n",
    "\n",
    "if queue:\n",
    "    \n",
    "    print(\"I am defined\")\n",
    "    \n",
    "if len(queue):\n",
    "    \n",
    "    print(\"I am defined\")\n",
    "    \n",
    "# =============== \n",
    "print(\"stacks\")\n",
    "stack = [3,1]\n",
    "\n",
    "stack.pop()\n",
    "stack\n",
    "\n",
    "stack.pop()\n",
    "\n",
    "stack\n",
    "\n",
    "print(f\"len stack: {len(stack)}\")\n",
    "\n",
    "if stack:\n",
    "    \n",
    "    print(\"I am defined\")\n"
   ]
  },
  {
   "cell_type": "code",
   "execution_count": 8,
   "metadata": {
    "code_folding": [
     0,
     22,
     26,
     30,
     40,
     69,
     81
    ]
   },
   "outputs": [],
   "source": [
    "class Node():\n",
    "    \n",
    "    def __init__(self, val, data=None):\n",
    "           \n",
    "        self.data = data   \n",
    "        self.val = val\n",
    "        \n",
    "        self.left = None\n",
    "        self.right = None\n",
    "        \n",
    "    def show_node(self):\n",
    "        \n",
    "        return f\"node val: {self.val}, data: {self.data}, left: {self.left}, right: {self.right}\"\n",
    "\n",
    "class BST():\n",
    "        \n",
    "    def __init__(self, root=None):\n",
    "        \n",
    "        self._root = root\n",
    "        \n",
    "        self._n_of_nodes = 0 if root is None else 1\n",
    "\n",
    "    def get_number_of_nodes(self):\n",
    "    \n",
    "        return self._n_of_nodes\n",
    "    \n",
    "    def get_root(self):\n",
    "        \n",
    "        return self._root\n",
    "        \n",
    "    def search(self,val):\n",
    "        \n",
    "        if self._root is None:\n",
    "            \n",
    "            return None\n",
    "        \n",
    "        else:\n",
    "            \n",
    "            return self._recursive_search(self._root, val)\n",
    "     \n",
    "    def _recursive_search(self,node, val):\n",
    "        \n",
    "        \n",
    "        if val == node.val:\n",
    "            \n",
    "            #print(f\"found you\")\n",
    "            return node\n",
    "    \n",
    "        elif val < node.val:\n",
    "            \n",
    "            if node.left is None:\n",
    "                \n",
    "                return None\n",
    "            \n",
    "            else:\n",
    "                #print(\"serach left\")\n",
    "                return self._recursive_search(node.left, val)\n",
    "            \n",
    "        else:\n",
    "            \n",
    "            if node.right is None:\n",
    "                \n",
    "                return None\n",
    "            \n",
    "            else:\n",
    "                #print(\"serach right\")\n",
    "                return self._recursive_search(node.right, val)\n",
    "                \n",
    "\n",
    "    def add(self, new_node):\n",
    "        \n",
    "        if self._root is None:\n",
    "\n",
    "            #print(f\"insert root: {new_node.val:}\")\n",
    "            self._root = new_node\n",
    "            self._n_of_nodes += 1 \n",
    "            \n",
    "        else:\n",
    "            \n",
    "            self._recursive_add(self._root, new_node)\n",
    "            \n",
    "    def _recursive_add(self,node, new_node):\n",
    "        \n",
    "        # insert right\n",
    "        if new_node.val > node.val:\n",
    "\n",
    "            if node.right is None:\n",
    "                \n",
    "                # insert\n",
    "                #print(f\"insert right: {new_node.val}\")\n",
    "                node.right = new_node\n",
    "                self._n_of_nodes += 1 \n",
    "                \n",
    "            else:\n",
    "                \n",
    "                # search right\n",
    "                \n",
    "                self._recursive_add(node.right, new_node)\n",
    "                \n",
    "        # do not insert repeated values\n",
    "        elif new_node.val <  node.val:\n",
    "            \n",
    "            if node.left is None:\n",
    "            \n",
    "                # insert\n",
    "                #print(f\"insert left: {new_node.val}\")\n",
    "                node.left = new_node\n",
    "                self._n_of_nodes += 1 \n",
    "                \n",
    "            else:\n",
    "                \n",
    "                # search left\n",
    "                self._recursive_add(node.left, new_node)\n",
    "                \n",
    "                \n",
    "    def pprint_tree(self):\n",
    "        \n",
    "        self._pprint_tree(self._root)\n",
    "        \n",
    "    # Shameles stolen (adapt) from: https://vallentin.dev/2016/11/29/pretty-print-tree \n",
    "    def _pprint_tree(self, node, file=None, _prefix=\"\", _last=True):\n",
    "        \n",
    "        print(_prefix, \"`- \" if _last else \"|- \", node.val, sep=\"\", file=file)\n",
    "        \n",
    "        _prefix += \"   \" if _last else \"|  \"\n",
    "        \n",
    "        child\n",
    "        child_count = 2\n",
    "        \n",
    "        for i, child in enumerate([node.left, node.right]):\n",
    "            \n",
    "            _last = i == (child_count - 1)\n",
    "            self._pprint_tree(child, file, _prefix, _last)"
   ]
  },
  {
   "cell_type": "markdown",
   "metadata": {},
   "source": [
    "### Testing"
   ]
  },
  {
   "cell_type": "markdown",
   "metadata": {},
   "source": [
    "#### pipy binarytree library with pretty print tree"
   ]
  },
  {
   "cell_type": "markdown",
   "metadata": {},
   "source": [
    "I find this library to validate my code \n",
    "\n",
    "```sh\n",
    "pip install binarytree\n",
    "```\n",
    "\n",
    "Node in the package\n",
    "\n",
    "```python\n",
    "# From source \n",
    "class Node(object):\n",
    "\n",
    "    def __init__(self, value, left=None, right=None):\n",
    "        self.val = value    # The node value\n",
    "        self.left = left    # Left child\n",
    "        self.right = right  # Right child\n",
    "\n",
    "# ------------------\n",
    "\n",
    "from binarytree import Node\n",
    "\n",
    "root = Node(1)\n",
    "root.left = Node(2)\n",
    "root.right = Node(3)\n",
    "root.left.right = Node(4)\n",
    "\n",
    "print(root)\n",
    "\n",
    "```\n",
    "\n",
    "Expect:\n",
    "\n",
    "```text\n",
    "#\n",
    "#      __1\n",
    "#     /   \\\n",
    "#    2     3\n",
    "#     \\\n",
    "#      4\n",
    "#\n",
    "```\n",
    "\n",
    "Creates random trees to test my codes\n",
    "\n",
    "```python\n",
    "\n",
    "# Generate a random binary tree and return its root node\n",
    "my_tree = tree(height=3, is_perfect=False)\n",
    "\n",
    "# Generate a random BST and return its root node\n",
    "my_bst = bst(height=3, is_perfect=True)\n",
    "\n",
    "# Generate a random max heap and return its root node\n",
    "my_heap = heap(height=3, is_max=True, is_perfect=False)\n",
    "\n",
    "```\n"
   ]
  },
  {
   "cell_type": "markdown",
   "metadata": {},
   "source": [
    "#### Testing implementation"
   ]
  },
  {
   "cell_type": "code",
   "execution_count": 9,
   "metadata": {},
   "outputs": [
    {
     "data": {
      "text/plain": [
       "'node val: 10, data: None, left: None, right: None'"
      ]
     },
     "execution_count": 9,
     "metadata": {},
     "output_type": "execute_result"
    }
   ],
   "source": [
    "new_node = Node(10)\n",
    "    \n",
    "new_node.show_node()"
   ]
  },
  {
   "cell_type": "code",
   "execution_count": 10,
   "metadata": {},
   "outputs": [
    {
     "name": "stdout",
     "output_type": "stream",
     "text": [
      "\n",
      "#nodes: 9\n",
      "\n",
      "search 8: found: node val: 8, data: 0, left: <__main__.Node object at 0x7f337d123850>, right: <__main__.Node object at 0x7f337d009b50>\n",
      "\n",
      "search 3: found: node val: 3, data: 1, left: <__main__.Node object at 0x7f337d123ee0>, right: <__main__.Node object at 0x7f337d1dce20>\n",
      "\n",
      "search 1: found: node val: 1, data: 2, left: None, right: None\n",
      "\n",
      "search 6: found: node val: 6, data: 3, left: <__main__.Node object at 0x7f337d0090d0>, right: <__main__.Node object at 0x7f337d009c10>\n",
      "\n",
      "search 4: found: node val: 4, data: 4, left: None, right: None\n",
      "\n",
      "search 7: found: node val: 7, data: 5, left: None, right: None\n",
      "\n",
      "search 10: found: node val: 10, data: 6, left: None, right: <__main__.Node object at 0x7f337d009820>\n",
      "\n",
      "search 14: found: node val: 14, data: 7, left: <__main__.Node object at 0x7f337d009b80>, right: None\n",
      "\n",
      "search 13: found: node val: 13, data: 8, left: None, right: None\n",
      "\n"
     ]
    }
   ],
   "source": [
    "arr = [8, 3, 1, 6, 4, 7, 10, 14, 13 ]\n",
    "\n",
    "bst = BST()\n",
    "for idx, val in enumerate(arr):\n",
    "    \n",
    "    new_node = Node(val,idx)\n",
    "    bst.add(new_node)\n",
    "    \n",
    "print()\n",
    "print(f\"#nodes: {bst.get_number_of_nodes()}\")\n",
    "\n",
    "print()\n",
    "# tesitng search\n",
    "for val in arr:\n",
    "\n",
    "    node = bst.search(val)\n",
    "    print(f\"search {val}: found: {node.show_node()}\")\n",
    "    print()"
   ]
  },
  {
   "cell_type": "markdown",
   "metadata": {},
   "source": [
    "#### Testing different inputs order\n",
    "\n",
    "* What to expect if you just change the order of the input? Do you get a different tree?\n",
    "* If the input is in order?\n"
   ]
  },
  {
   "cell_type": "code",
   "execution_count": 21,
   "metadata": {},
   "outputs": [
    {
     "name": "stdout",
     "output_type": "stream",
     "text": [
      "order\n",
      "\n",
      "1\n",
      " \\\n",
      "  2\n",
      "   \\\n",
      "    3\n",
      "     \\\n",
      "      4\n",
      "\n",
      "\n",
      "Reverse order\n",
      "\n",
      "      4\n",
      "     /\n",
      "    3\n",
      "   /\n",
      "  2\n",
      " /\n",
      "1\n",
      "\n"
     ]
    }
   ],
   "source": [
    "from binarytree import tree, bst, heap\n",
    "from binarytree import Node\n",
    "\n",
    "print(\"order\")\n",
    "## input is order result in right skewed tree\n",
    "\n",
    "arr = [1,2,3,4]\n",
    "\n",
    "bst = BST()\n",
    "for idx, val in enumerate(arr):\n",
    "    \n",
    "    # XXX: Node here is Node defintion of pypi package thatis compatible with my definition. \n",
    "    # XXX: So should work\n",
    "    new_node = Node(val) \n",
    "    bst.add(new_node)\n",
    "    \n",
    "root = bst.get_root()\n",
    "print(root)\n",
    "\n",
    "print()\n",
    "print(\"Reverse order\")\n",
    "## input is reverse order result in left skewed tree\n",
    "\n",
    "arr = [4,3,2,1]\n",
    "\n",
    "bst = BST()\n",
    "for idx, val in enumerate(arr):\n",
    "    \n",
    "    # XXX: Node here is Node defintion of pypi package thatis compatible with my definition. \n",
    "    # XXX: So should work\n",
    "    new_node = Node(val) \n",
    "    bst.add(new_node)\n",
    "    \n",
    "root = bst.get_root()\n",
    "print(root)"
   ]
  },
  {
   "cell_type": "code",
   "execution_count": 23,
   "metadata": {},
   "outputs": [
    {
     "name": "stdout",
     "output_type": "stream",
     "text": [
      "\n",
      "Different order results different trees\n",
      "arr: [3, 4, 1, 2]\n",
      "\n",
      "  __3\n",
      " /   \\\n",
      "1     4\n",
      " \\\n",
      "  2\n",
      "\n",
      "arr: [3, 2, 4, 1]\n",
      "\n",
      "    3\n",
      "   / \\\n",
      "  2   4\n",
      " /\n",
      "1\n",
      "\n",
      "arr: [2, 4, 1, 3]\n",
      "\n",
      "  2__\n",
      " /   \\\n",
      "1     4\n",
      "     /\n",
      "    3\n",
      "\n"
     ]
    }
   ],
   "source": [
    "print()\n",
    "print(\"Different order results different trees\")\n",
    "\n",
    "# different order results in different trees\n",
    "arr = [3,4,1,2] # 3 is a root\n",
    "\n",
    "print(f\"arr: {arr}\")\n",
    "\n",
    "bst = BST()\n",
    "for idx, val in enumerate(arr):\n",
    "    \n",
    "    # XXX: Node here is Node defintion of pypi package thatis compatible with my definition. \n",
    "    # XXX: So should work\n",
    "    new_node = Node(val) \n",
    "    bst.add(new_node)\n",
    "    \n",
    "root = bst.get_root()\n",
    "print(root)\n",
    "\n",
    "# different order results in different trees\n",
    "arr = [3,2,4,1] # 3 is a root\n",
    "\n",
    "print(f\"arr: {arr}\")\n",
    "\n",
    "bst = BST()\n",
    "for idx, val in enumerate(arr):\n",
    "    \n",
    "    # XXX: Node here is Node defintion of pypi package thatis compatible with my definition. \n",
    "    # XXX: So should work\n",
    "    new_node = Node(val) \n",
    "    bst.add(new_node)\n",
    "    \n",
    "root = bst.get_root()\n",
    "print(root)\n",
    "\n",
    "\n",
    "arr = [2,4,1,3] # 3 is a root\n",
    "\n",
    "print(f\"arr: {arr}\")\n",
    "\n",
    "bst = BST()\n",
    "for idx, val in enumerate(arr):\n",
    "    \n",
    "    # XXX: Node here is Node defintion of pypi package thatis compatible with my definition. \n",
    "    # XXX: So should work\n",
    "    new_node = Node(val) \n",
    "    bst.add(new_node)\n",
    "    \n",
    "root = bst.get_root()\n",
    "print(root)"
   ]
  },
  {
   "cell_type": "markdown",
   "metadata": {},
   "source": [
    "## Traversal: DFS vs BSF"
   ]
  },
  {
   "cell_type": "markdown",
   "metadata": {},
   "source": [
    "Traversal means you want to visit all nodes (do something with the values). So we need to process the nodes in some order (there is more than one way to do it) and track the nodes already visited for unnecessary work.\n",
    "\n",
    "The tree does **NOT** need to be BST. \n",
    "\n",
    "Ex: \n",
    "\n",
    "```txt\n",
    "        A\n",
    "       / \\\n",
    "      B   C\n",
    "     /   / \\\n",
    "    D   E   F\n",
    "```\n",
    "\n",
    "BSF: A, B, C, D, E, F  \n",
    "DSF: A, B, D, C, E, F  \n",
    "\n",
    "\n",
    "**TODO** Review, maybe the time and space somplexity is realted to traversal trees and graphs\n",
    "\n",
    "* All traversals require **O(n) time** when n is the number of nodes in the tree as they visit every node exactly once\n",
    "\n",
    "* BSF\n",
    "\n",
    "    * Utilize **queue** in the implementation\n",
    "\n",
    "    * Space complexity O(w) where w is maximum width of Binary Tree. The maximum number of elements in the **queue** (extra space) is w\n",
    "    \n",
    "* DFS\n",
    "\n",
    "    * Utilize **stack** in the implementation\n",
    "    \n",
    "    * Space complexity O(h) where the h is the maximum height (depth of the largest branch). The maximum number of element in the **stack** (extra space) is h\n",
    " \n",
    "How to Pick One?\n",
    "\n",
    "* The most important points is, **BFS starts visiting nodes from root** while **DFS starts visiting nodes from leaves**. \n",
    "\n",
    "    So if our problem is to search something that is more likely to closer to root, we would prefer BFS. And if the target node is close to a leaf, we would prefer DFS.  \n",
    "    \n",
    "\n",
    "* Extra Space can be one factor. h >> w or w >> h?  \n",
    "\n",
    "* Depth First Traversals are typically recursive and recursive code requires function call overheads  \n",
    "\n",
    "\n",
    "For exercise example:\n",
    "\n",
    "* Which traversal should be used to print leaves of Binary Tree and why? DFS\n",
    "\n",
    "* Which traversal should be used to print nodes at k’th level where k is much less than total number of levels? BFS"
   ]
  },
  {
   "cell_type": "markdown",
   "metadata": {},
   "source": [
    "#### DSF\n",
    "\n",
    "https://www.geeksforgeeks.org/dfs-traversal-of-a-tree-using-recursion/"
   ]
  },
  {
   "cell_type": "markdown",
   "metadata": {},
   "source": [
    "* in-order (Remember for BST gives you sorted output)\n",
    "\n",
    "    1. Traverse the left subtree, i.e., call Inorder(left-subtree)\n",
    "    1. Visit Root (Node)\n",
    "    1. Traverse the right subtree, i.e., call Inorder(right-subtree)\n",
    "\n",
    "* Preorder(tree)\n",
    "\n",
    "   1. Visit the root.\n",
    "   2. Traverse the left subtree, i.e., call Preorder(left-subtree)\n",
    "   3. Traverse the right subtree, i.e., call Preorder(right-subtree) \n",
    "   \n",
    "* Postorder(tree)\n",
    "   1. Traverse the left subtree, i.e., call Postorder(left-subtree)\n",
    "   2. Traverse the right subtree, i.e., call Postorder(right-subtree)\n",
    "   3. Visit the root\n"
   ]
  },
  {
   "cell_type": "markdown",
   "metadata": {},
   "source": [
    "##### recursive implementation (It is easy to imlpement and same time space complexity)\n",
    "\n",
    "* Time complexity: O(n) you always process all nodes\n",
    "* Space  complexity for recursive implementation (It is easy the implement)\n",
    "    * Ignore the satck of the function call dues to recursion: O(1)\n",
    "    * Considering the stack: O(n)"
   ]
  },
  {
   "cell_type": "code",
   "execution_count": 24,
   "metadata": {},
   "outputs": [],
   "source": [
    "def process(node):\n",
    "    \n",
    "    print(f\"Node: {node.val}\")\n",
    "\n",
    "def dfs_inorder(node):\n",
    "        \n",
    "    if node is not None:\n",
    "\n",
    "        dfs_inorder(node.left)\n",
    "        \n",
    "        process(node)\n",
    "        \n",
    "        dfs_inorder(node.right)\n",
    "        \n",
    "        \n",
    "def dfs_preorder(node):\n",
    "\n",
    "    if node is not None:\n",
    "\n",
    "        ## root always first\n",
    "        process(node)\n",
    "        \n",
    "        dfs_preorder(node.left)\n",
    "        \n",
    "        dfs_preorder(node.right)\n",
    "        \n",
    "def dfs_postorder(node):\n",
    "\n",
    "    if node is not None:\n",
    "        \n",
    "        dfs_postorder(node.left)\n",
    "        \n",
    "        dfs_postorder(node.right)\n",
    "        \n",
    "        # root always last \n",
    "        process(node)       "
   ]
  },
  {
   "cell_type": "markdown",
   "metadata": {},
   "source": [
    "See geek4geek examples with Binary tree **but not BST**: [DFS inorder](https://www.geeksforgeeks.org/dfs-traversal-of-a-tree-using-recursion/)\n",
    "\n",
    "See [Binary tree example](#bnary_tree_example)"
   ]
  },
  {
   "cell_type": "code",
   "execution_count": 25,
   "metadata": {},
   "outputs": [
    {
     "name": "stdout",
     "output_type": "stream",
     "text": [
      "\n",
      "Inorder: 4 2 5 1 3\n",
      "Node: 4\n",
      "Node: 2\n",
      "Node: 5\n",
      "Node: 1\n",
      "Node: 3\n",
      "\n",
      "Preorder: 1 2 4 5 3\n",
      "Node: 1\n",
      "Node: 2\n",
      "Node: 4\n",
      "Node: 5\n",
      "Node: 3\n",
      "\n",
      "Postorder: 4 5 2 3 1\n",
      "Node: 4\n",
      "Node: 5\n",
      "Node: 2\n",
      "Node: 3\n",
      "Node: 1\n"
     ]
    }
   ],
   "source": [
    "# Tree geek4geek example\n",
    "root = Node(1) \n",
    "root.left = Node(2) \n",
    "root.right = Node(3) \n",
    "root.left.left = Node(4) \n",
    "root.left.right = Node(5) \n",
    "  \n",
    "print(\"\\nInorder: 4 2 5 1 3\")\n",
    "# Expected: 4 2 5 1 3\n",
    "dfs_inorder(root) \n",
    "\n",
    "print(\"\\nPreorder: 1 2 4 5 3\")\n",
    "# Expected:1 2 4 5 3\n",
    "dfs_preorder(root)\n",
    "\n",
    "print(\"\\nPostorder: 4 5 2 3 1\")\n",
    "# Expected: 4 5 2 3 1\n",
    "dfs_postorder(root)"
   ]
  },
  {
   "cell_type": "markdown",
   "metadata": {},
   "source": [
    "[Binary search tree example](#bnary_search_tree_example)"
   ]
  },
  {
   "cell_type": "code",
   "execution_count": 26,
   "metadata": {},
   "outputs": [
    {
     "name": "stdout",
     "output_type": "stream",
     "text": [
      "Node: 1\n",
      "Node: 2\n",
      "Node: 3\n",
      "Node: 4\n"
     ]
    }
   ],
   "source": [
    "# See Binary tree example\n",
    "root = bst.get_root()\n",
    "\n",
    "# Expect: 1, 3, 4, 6, 7, 8, 10, 13, 14\n",
    "dfs_inorder(root)"
   ]
  },
  {
   "cell_type": "markdown",
   "metadata": {},
   "source": [
    "##### Stack implementation (inorder)"
   ]
  },
  {
   "cell_type": "markdown",
   "metadata": {},
   "source": [
    "1. Create an empty stack\n",
    "1. Add root to stack if tree is not empty\n",
    "1. while stacj is not empty\n",
    "\n",
    "    * pop node from the stack\n",
    "    * print node\n",
    "    * insert child\n",
    "        1. insert left\n",
    "        1. insert right\n",
    "----------\n",
    "\n",
    "* Time complexity: O(n)\n",
    "* Space complexity: O(h) where h is the maximum height (depth of the largest branch)"
   ]
  },
  {
   "cell_type": "code",
   "execution_count": 27,
   "metadata": {},
   "outputs": [],
   "source": [
    "def dfs_recursive_preorder(root):\n",
    "    \n",
    "    stack = []\n",
    "    \n",
    "    if root is not None:\n",
    "        \n",
    "        stack.append(root)\n",
    "        \n",
    "        while stack:\n",
    "            \n",
    "            node = stack.pop()\n",
    "               \n",
    "            process(node)\n",
    "            \n",
    "            if node.right is not None:\n",
    "            \n",
    "                stack.append(node.right)\n",
    "            \n",
    "            if node.left is not None:\n",
    "            \n",
    "                stack.append(node.left)"
   ]
  },
  {
   "cell_type": "code",
   "execution_count": 70,
   "metadata": {},
   "outputs": [
    {
     "name": "stdout",
     "output_type": "stream",
     "text": [
      "\n",
      "Preorder: 1 2 4 5 3\n",
      "Node: 1\n",
      "Node: 2\n",
      "Node: 4\n",
      "Node: 5\n",
      "Node: 3\n"
     ]
    }
   ],
   "source": [
    "root = Node(1) \n",
    "root.left = Node(2) \n",
    "root.right = Node(3) \n",
    "root.left.left = Node(4) \n",
    "root.left.right = Node(5) \n",
    "      \n",
    "print(\"\\nPreorder: 1 2 4 5 3\")\n",
    "# Expected: 4 2 5 1 3\n",
    "dfs_recursive_preorder(root) "
   ]
  },
  {
   "cell_type": "markdown",
   "metadata": {},
   "source": [
    "##### DFS application: process tree by branch"
   ]
  },
  {
   "cell_type": "code",
   "execution_count": 84,
   "metadata": {},
   "outputs": [],
   "source": [
    "def process_by_path(root):\n",
    "    \n",
    "    if root is None:\n",
    "        \n",
    "        return \"empty\"\n",
    "        \n",
    "    stack = [ (root, [root.val]) ]\n",
    "    \n",
    "    while stack:\n",
    "            \n",
    "        node, path = stack.pop()\n",
    "            \n",
    "        #print(f\"node: {node.val}; path: {path}\")\n",
    "        if node.left is None and node.right is None:\n",
    "            # it is a leaf\n",
    "                \n",
    "            print(f\"path: {path}\")\n",
    "\n",
    "        else:\n",
    "                \n",
    "            if node.left is not None:\n",
    "        \n",
    "                # XXX: you need todo the copy because in python you pass args as reference\n",
    "                new_path = list(path)\n",
    "                new_path.append(node.left.val)\n",
    "                stack.append((node.left, new_path) )\n",
    "                    \n",
    "            if node.right is not None:\n",
    "                    \n",
    "                # XXX: you need todo the copy because in python you pass args as reference\n",
    "                new_path = list(path)\n",
    "                new_path.append(node.right.val)\n",
    "                stack.append((node.right, new_path) )"
   ]
  },
  {
   "cell_type": "code",
   "execution_count": 85,
   "metadata": {},
   "outputs": [
    {
     "name": "stdout",
     "output_type": "stream",
     "text": [
      "\n",
      "    __1\n",
      "   /   \\\n",
      "  2     3\n",
      " / \\\n",
      "4   5\n",
      "\n",
      "path: [1, 3]\n",
      "path: [1, 2, 5]\n",
      "path: [1, 2, 4]\n",
      "\n",
      "\n",
      "       ___8________\n",
      "      /            \\\n",
      "    _10          ___11__\n",
      "   /   \\        /       \\\n",
      "  13    3     _12        5\n",
      " /           /   \\      / \\\n",
      "1           14    4    2   9\n",
      "\n",
      "path: [8, 11, 5, 9]\n",
      "path: [8, 11, 5, 2]\n",
      "path: [8, 11, 12, 4]\n",
      "path: [8, 11, 12, 14]\n",
      "path: [8, 10, 3]\n",
      "path: [8, 10, 13, 1]\n"
     ]
    }
   ],
   "source": [
    "print(root)\n",
    "process_by_path(root)\n",
    "\n",
    "\n",
    "print()\n",
    "my_tree = tree(height=3, is_perfect=False)\n",
    "\n",
    "print(my_tree)\n",
    "\n",
    "process_by_path(my_tree)"
   ]
  },
  {
   "cell_type": "markdown",
   "metadata": {},
   "source": [
    "#### BSF\n",
    "\n",
    "https://www.geeksforgeeks.org/level-order-tree-traversal/"
   ]
  },
  {
   "cell_type": "markdown",
   "metadata": {},
   "source": [
    "\n",
    "There are 2 implementation\n",
    "* One you need to know the height of the tree and it is recursive\n",
    "    * Time complexity: O(n^2)\n",
    "    * Space Complexity: O(1) igonre fucn calls satck or O(n)\n",
    "    \n",
    "* Using queue: (**For me this one is easy and close to BSF in graphs**)\n",
    "\n",
    "    * Time complexity: O(n)\n",
    "    * Space Complexity: O(w) where w is maximum width of Binary Tree.\n",
    "\n",
    "-----------\n",
    "1. Create an empty queue\n",
    "1. start from root node add root to queue\n",
    "1. while queue is not empty \n",
    "\n",
    "    * pop node from the queue     \n",
    "    * print/process node\n",
    "    * insert child in the queue\n",
    "        1. first left\n",
    "        1. second right\n",
    " "
   ]
  },
  {
   "cell_type": "code",
   "execution_count": 29,
   "metadata": {},
   "outputs": [],
   "source": [
    "from collections import deque\n",
    "\n",
    "def bfs(root):\n",
    "    \n",
    "    queue = deque()\n",
    "    \n",
    "    if root is not None:\n",
    "        \n",
    "        queue.append(root)\n",
    "        \n",
    "    while len(queue) > 0:\n",
    "        \n",
    "        node = queue.popleft()\n",
    "        \n",
    "        process(node)\n",
    "        \n",
    "        if node.left is not None:\n",
    "            \n",
    "            queue.append(node.left)\n",
    "            \n",
    "        if node.right is not None:\n",
    "\n",
    "            queue.append(node.right)\n"
   ]
  },
  {
   "cell_type": "code",
   "execution_count": 30,
   "metadata": {},
   "outputs": [
    {
     "name": "stdout",
     "output_type": "stream",
     "text": [
      "BSF. Expected: 1 2 3 4 5 7\n",
      "Node: 1\n",
      "Node: 2\n",
      "Node: 3\n",
      "Node: 4\n",
      "Node: 5\n",
      "Node: 7\n"
     ]
    }
   ],
   "source": [
    "# Define the binary tree\n",
    "root = Node(1) \n",
    "\n",
    "# level: 1\n",
    "root.left = Node(2) \n",
    "root.right = Node(3)\n",
    "\n",
    "# level 2\n",
    "root.left.left = Node(4) \n",
    "root.left.right = Node(5)\n",
    "\n",
    "#root.right.left = Node(6) \n",
    "root.right.right = Node(7)\n",
    "\n",
    "print(\"BSF. Expected: 1 2 3 4 5 7\")\n",
    "bfs(root)"
   ]
  },
  {
   "cell_type": "markdown",
   "metadata": {},
   "source": [
    "##### BSF application: process tree by level\n",
    "\n",
    "A very useful application of BSF, we can process the tree by levels. \n",
    "\n",
    "1. Get level size\n",
    "1. Get the diameter of the tree (max level size)\n",
    "1. Print the tree by level\n",
    "1. you can parse the entire tree like in BFS code above\n",
    "1. This is useful for many coding exercises"
   ]
  },
  {
   "cell_type": "code",
   "execution_count": 51,
   "metadata": {},
   "outputs": [],
   "source": [
    "def process_tree_by_level(root):\n",
    "     \n",
    "    if root is None:\n",
    "        return \n",
    "    \n",
    "    queue = deque([root])\n",
    "    \n",
    "    max_len = 0\n",
    "    while queue:\n",
    "        \n",
    "        \n",
    "        level_len = len(queue) # O(1) Assume I do not have to traverse the tree to counts the nodes\n",
    "        \n",
    "        print()\n",
    "        print(f\"level len = ({level_len}):\", end=\" \")\n",
    "        \n",
    "        if level_len > max_len:\n",
    "            \n",
    "            max_len = level_len\n",
    "        \n",
    "        for k in range(0,level_len):\n",
    "            \n",
    "            node = queue.popleft()\n",
    "            \n",
    "            print(f\"{node.val}\", end=\" \")\n",
    "            \n",
    "            if node.left is not None:\n",
    "                \n",
    "                queue.append(node.left)\n",
    "                \n",
    "            if node.right is not None:\n",
    "                \n",
    "                queue.append(node.right)\n",
    "                \n",
    "    print(f\"\\nTree diameter: {max_len}\")"
   ]
  },
  {
   "cell_type": "code",
   "execution_count": 52,
   "metadata": {},
   "outputs": [
    {
     "name": "stdout",
     "output_type": "stream",
     "text": [
      "\n",
      "level len = (1): 1 \n",
      "level len = (2): 2 3 \n",
      "level len = (3): 4 5 7 \n",
      "Tree diameter: 3\n",
      "\n",
      "\n",
      "    __1\n",
      "   /   \\\n",
      "  2     3\n",
      " / \\     \\\n",
      "4   5     7\n",
      "\n"
     ]
    }
   ],
   "source": [
    "process_tree_by_level(root)\n",
    "\n",
    "print()\n",
    "print(root)"
   ]
  },
  {
   "cell_type": "markdown",
   "metadata": {},
   "source": [
    "## Compute the height and the size of the tree\n",
    "\n",
    "ref: \n",
    "* https://www.geeksforgeeks.org/write-a-c-program-to-find-the-maximum-depth-or-height-of-a-tree/\n",
    "* https://www.geeksforgeeks.org/iterative-method-to-find-height-of-binary-tree/\n",
    "\n",
    "\n",
    "$\n",
    "log_b(a) = \\frac{log(a)}{log(b)}\n",
    "$\n",
    "\n",
    "```python\n",
    "import math \n",
    "\n",
    "## log base 2\n",
    "math.log(4,2)\n",
    "\n",
    "# ln \n",
    "math.log(math.exp(3.0))\n",
    "\n",
    "```\n"
   ]
  },
  {
   "cell_type": "code",
   "execution_count": 44,
   "metadata": {},
   "outputs": [],
   "source": [
    "def height(node):\n",
    "\n",
    "    if node is None:\n",
    "    \n",
    "        return 0\n",
    "    \n",
    "    else:\n",
    "    \n",
    "        return max(height(node.left),height(node.right)) + 1\n",
    "    "
   ]
  },
  {
   "cell_type": "code",
   "execution_count": 70,
   "metadata": {},
   "outputs": [
    {
     "data": {
      "text/plain": [
       "4"
      ]
     },
     "execution_count": 70,
     "metadata": {},
     "output_type": "execute_result"
    },
    {
     "data": {
      "text/plain": [
       "2"
      ]
     },
     "execution_count": 70,
     "metadata": {},
     "output_type": "execute_result"
    }
   ],
   "source": [
    "import math \n",
    "# Define the binary tree\n",
    "\n",
    "# height: 0 empty tree\n",
    "root = None\n",
    "\n",
    "# height: 1\n",
    "root = Node(1) \n",
    "\n",
    "# level: 1, height: 2\n",
    "root.left = Node(2) \n",
    "root.right = Node(3)\n",
    "\n",
    "# level 2\n",
    "root.left.left = Node(4) \n",
    "root.left.right = Node(5)\n",
    "\n",
    "root.right.left = Node(6) \n",
    "root.right.right = Node(7)\n",
    "\n",
    "# level: 3\n",
    "root.right.right.left = Node(8)\n",
    "\n",
    "height(root)\n",
    "\n",
    "math.floor(math.log(1+1,2) + 1)"
   ]
  },
  {
   "cell_type": "code",
   "execution_count": 71,
   "metadata": {},
   "outputs": [],
   "source": [
    "def size(node):\n",
    "    \n",
    "    \n",
    "    if node is None:\n",
    "        \n",
    "        return 0\n",
    "    \n",
    "    else:\n",
    "        \n",
    "        return size(node.left) + size(node.right) + 1\n"
   ]
  },
  {
   "cell_type": "code",
   "execution_count": 80,
   "metadata": {},
   "outputs": [
    {
     "data": {
      "text/plain": [
       "8"
      ]
     },
     "execution_count": 80,
     "metadata": {},
     "output_type": "execute_result"
    }
   ],
   "source": [
    "# height: 0 empty tree\n",
    "root = None\n",
    "\n",
    "# height: 1\n",
    "root = Node(1) \n",
    "\n",
    "# # level: 1, height: 2\n",
    "root.left = Node(2) \n",
    "root.right = Node(3)\n",
    "\n",
    "# level 2\n",
    "root.left.left = Node(4) \n",
    "root.left.right = Node(5)\n",
    "\n",
    "root.right.left = Node(6) \n",
    "root.right.right = Node(7)\n",
    "\n",
    "# level: 3\n",
    "root.right.right.left = Node(8)\n",
    "\n",
    "size(root)"
   ]
  },
  {
   "cell_type": "markdown",
   "metadata": {},
   "source": [
    "## Heap \n",
    "\n",
    "refs:\n",
    "* https://www.geeksforgeeks.org/heap-data-structure/\n",
    "* https://www.geeksforgeeks.org/binary-heap/\n",
    "* https://www.youtube.com/watch?v=uZj0hetLFHU video\n",
    "\n",
    "Definition:\n",
    "\n",
    "1. Is a comlpete Tree (See [Full Binary Tree](#full_binary_tree))\n",
    "2. A Binary Heap is either Min Heap or Max Heap. In a Min Binary Heap, the key at root must be minimum among all keys present in Binary Heap. The same property must be recursively true for all nodes in Binary Tree. Same fot Max Binary Tree.\n",
    "\n",
    "Examples of min Heap\n",
    "\n",
    "```text\n",
    "            10                      10\n",
    "         /      \\               /       \\  \n",
    "       20        100          15         30  \n",
    "      /                      /  \\        /  \\\n",
    "    30                     40    50    100   40\n",
    "```\n",
    "\n",
    "\n",
    "<a id='bnary_heap_example'></a>\n",
    "<img src=\"./images/MinHeapAndMaxHeap.png\" alt=\"\" width=\"500\" height=\"700\">\n",
    "\n",
    "\n",
    "* **Aplications**\n",
    "    * Priority Queues\n",
    "    *  Heap Sort $O(n log n)$\n",
    "    *  Graph Algorithms: The priority queues are especially used in Graph Algorithms like **Dijkstra’s Shortest Path**: https://www.geeksforgeeks.org/dijkstras-algorithm-for-adjacency-list-representation-greedy-algo-8/\n",
    "    * k largest(or smallest) elements in an array: https://www.geeksforgeeks.org/k-largestor-smallest-elements-in-an-array/\n",
    "    * Merge K sorted array: https://www.geeksforgeeks.org/merge-k-sorted-arrays/\n"
   ]
  },
  {
   "cell_type": "markdown",
   "metadata": {},
   "source": [
    "### Array represenattion of Binary Heap Tree"
   ]
  },
  {
   "cell_type": "markdown",
   "metadata": {},
   "source": [
    "* root: $arr[0]$\n",
    "* parent: $arr[(i-1) // 2]$\n",
    "* child: \n",
    "    * left $arr[2i + 1]$\n",
    "    * right $arr[2i + 2]$\n",
    "    \n",
    "\n",
    "<a id='bnary_heap_array_rep'></a>\n",
    "<img src=\"./images/binaryheap.png\" alt=\"\" width=\"400\" height=\"600\">\n",
    "\n",
    "\n",
    "The advantage of the array representation, we can get parent of node without the need to traversal the tree and save the parents. This make easy to implement the operations of delete or insert, since we need to compare the values of the child with parents and grand parents and etc."
   ]
  },
  {
   "cell_type": "markdown",
   "metadata": {},
   "source": [
    "### Operations on Min Heap:\n",
    "\n",
    "\n",
    "1. Get Min or Max. Return root $O(1)$\n",
    "1. Extract the min: Removes the minimum from MinHeap. Time complexity $O(log n)$. This operation needs to maintain the heap property (by calling heapify()) after removing root.\n",
    "1. Decreases value of key. Time complexity $O(log n)$\n",
    "1. Insert new value. $O(log n)$ time\n",
    "1. Delete a node. $O(log n)$ time\n",
    "\n",
    "    1. decreaseKey() (you set -inf to the node you want delete and move it to the root)\n",
    "    1. extractMin() (after decrease, the -inf value is at root, so we need to extract the root)\n",
    "\n",
    "\n",
    "Building a heap from an array of n input elements can be done by starting with an empty heap, then successively inserting each element. This approach, called Williams’ method after the inventor of binary heaps, is easily seen to run in $O(n log n)$ time: it performs n insertions at $O(log n)$ cost each"
   ]
  },
  {
   "cell_type": "markdown",
   "metadata": {},
   "source": [
    "### Implementation"
   ]
  },
  {
   "cell_type": "code",
   "execution_count": 49,
   "metadata": {},
   "outputs": [],
   "source": [
    "class MinHeap: \n",
    "      \n",
    "    # Constructor to initialize a heap \n",
    "    def __init__(self, capacity=10): \n",
    "\n",
    "        ## array representation\n",
    "        self.heap = [float(\"inf\")]*capacity\n",
    "        self.capacity = capacity\n",
    "        self.size = 0\n",
    "  \n",
    "    def parent(self, i):\n",
    "   \n",
    "        return (i-1) // 2\n",
    "    \n",
    "    def left(self, i):\n",
    "\n",
    "        return 2*i + 1\n",
    "    \n",
    "    def right(self, i):\n",
    "\n",
    "        return 2*i + 2\n",
    "    \n",
    "    # Get the minimum element from the heap \n",
    "    def get_min(self):\n",
    "        \n",
    "        return self.heap[0] \n",
    "    \n",
    "    # Inserts a new key 'k' \n",
    "    def insert_key(self, key):\n",
    "        \n",
    "        if self.size == self.capacity:\n",
    "            \n",
    "            print(\"Heap overflow. Needs to remove frist before insert new key\")\n",
    "        \n",
    "        else:\n",
    "            \n",
    "            self.size += 1\n",
    "            pos = self.size - 1\n",
    "            self.heap[pos] = key\n",
    "            \n",
    "            parent = self.parent(pos)\n",
    "            #print(f\"pos: {pos}; parent: {parent}\")\n",
    "            while (pos > 0 and self.heap[parent] > self.heap[pos]):\n",
    "            \n",
    "                # swap  \n",
    "                self.heap[pos], self.heap[parent] = self.heap[parent], self.heap[pos] \n",
    "                pos = parent\n",
    "                parent = self.parent(pos)\n",
    "                \n",
    "                #print(f\"pos: {pos}; parent: {parent}\")\n",
    "\n",
    "    # Decrease value of key at index 'i' to new_val \n",
    "    # It is assumed that new_val is smaller than heap[i] \n",
    "    def decrease_key(self, i, new_val): \n",
    "        # XXX: Me. This is similar to insert_key but update for smaller value instaed of insert\n",
    "        \n",
    "        self.heap[i] = new_val\n",
    "        parent = self.parent(i)\n",
    "        \n",
    "        while (i > 0 and self.heap[parent] > self.heap[i]):\n",
    "            \n",
    "            # swap  \n",
    "            self.heap[i], self.heap[parent] = self.heap[parent], self.heap[i] \n",
    "        \n",
    "            i = parent\n",
    "            parent = self.parent(i)\n",
    "                    \n",
    "    # Method to remove minium element from min heap \n",
    "    def extract_min(self):\n",
    "        \n",
    "        if self.size == 0:\n",
    "            \n",
    "            return float(\"inf\")\n",
    "        \n",
    "        root = self.heap[0]\n",
    "        \n",
    "        if self.size == 1:\n",
    "            \n",
    "            self.size -= 1\n",
    "            return root\n",
    "        \n",
    "        self.heap[0] = self.heap[self.size - 1] # put the last inserted key in the root\n",
    "        self.heap[self.size - 1] = float(\"inf\")  # just to show me it was removed\n",
    "        self.size -= 1\n",
    "        self._heapify(0)\n",
    "        \n",
    "        return root\n",
    "  \n",
    "    # This functon deletes key at index i. It first reduces \n",
    "    # value to minus infinite and then calls extractMin() \n",
    "    def delete_key(self, i):\n",
    "        \n",
    "        self.decrease_key(i, float(\"-inf\")) \n",
    "        self.extract_min() \n",
    "\n",
    "    # Time worst case: O(log n).log n is the height of the tree.\n",
    "    # The worst case is when heap[k] > thena all child\n",
    "    def _heapify(self, k):\n",
    "        \n",
    "        l = self.left(k)\n",
    "        r = self.right(k)\n",
    "        \n",
    "        smallest_idx = k\n",
    "        \n",
    "        if (l < self.size and self.heap[l] < self.heap[smallest_idx] ):\n",
    "            \n",
    "            # update smallest_idx\n",
    "            smallest_idx = self.heap[l] \n",
    "            \n",
    "        if (r < self.size and self.heap[r] < self.heap[smallest_idx]):\n",
    "            \n",
    "            # update smallest_idx\n",
    "            smallest_idx = self.heap[r] \n",
    "        \n",
    "        # check if I need to swap\n",
    "        if (smallest_idx != k):\n",
    "            \n",
    "            self.heap[smallest_idx], self.heap[k] = self.heap[k] ,  self.heap[smallest_idx] \n",
    "            self._heapify(smallest_idx)"
   ]
  },
  {
   "cell_type": "code",
   "execution_count": 51,
   "metadata": {},
   "outputs": [
    {
     "data": {
      "text/plain": [
       "[2, 3, 6, 5]"
      ]
     },
     "execution_count": 51,
     "metadata": {},
     "output_type": "execute_result"
    },
    {
     "data": {
      "text/plain": [
       "[3, 5, 6, 2]"
      ]
     },
     "execution_count": 51,
     "metadata": {},
     "output_type": "execute_result"
    },
    {
     "name": "stdout",
     "output_type": "stream",
     "text": [
      "heap: [2, 3, 6, 5]\n",
      "Delete\n",
      "heap: [2, 3, 5, inf]\n"
     ]
    }
   ],
   "source": [
    "import heapq\n",
    "\n",
    "arr = [3, 5, 6,2]\n",
    "arr2 = [3, 5, 6,2]\n",
    "\n",
    "heapq.heapify(arr2)\n",
    "arr2\n",
    "\n",
    "my_heap = MinHeap(4)\n",
    "\n",
    "arr\n",
    "for a in arr:\n",
    "    \n",
    "#     print(f\"a:{a}\")\n",
    "    \n",
    "    my_heap.insert_key(a)\n",
    "    \n",
    "print(f\"heap: {my_heap.heap}\") # Expected [2, 3, 6, 5]\n",
    "    \n",
    "print(\"Delete\")\n",
    "\n",
    "my_heap.delete_key(2)\n",
    "print(f\"heap: {my_heap.heap}\") # Expected [2, 3, 5, inf]"
   ]
  },
  {
   "cell_type": "code",
   "execution_count": null,
   "metadata": {},
   "outputs": [],
   "source": []
  },
  {
   "cell_type": "code",
   "execution_count": null,
   "metadata": {},
   "outputs": [],
   "source": []
  }
 ],
 "metadata": {
  "kernelspec": {
   "display_name": "Python 3",
   "language": "python",
   "name": "python3"
  },
  "language_info": {
   "codemirror_mode": {
    "name": "ipython",
    "version": 3
   },
   "file_extension": ".py",
   "mimetype": "text/x-python",
   "name": "python",
   "nbconvert_exporter": "python",
   "pygments_lexer": "ipython3",
   "version": "3.8.3"
  },
  "toc": {
   "base_numbering": 1,
   "nav_menu": {},
   "number_sections": true,
   "sideBar": true,
   "skip_h1_title": true,
   "title_cell": "Table of Contents",
   "title_sidebar": "Contents",
   "toc_cell": false,
   "toc_position": {
    "height": "calc(100% - 180px)",
    "left": "10px",
    "top": "150px",
    "width": "410.656px"
   },
   "toc_section_display": true,
   "toc_window_display": true
  },
  "varInspector": {
   "cols": {
    "lenName": 16,
    "lenType": 16,
    "lenVar": 40
   },
   "kernels_config": {
    "python": {
     "delete_cmd_postfix": "",
     "delete_cmd_prefix": "del ",
     "library": "var_list.py",
     "varRefreshCmd": "print(var_dic_list())"
    },
    "r": {
     "delete_cmd_postfix": ") ",
     "delete_cmd_prefix": "rm(",
     "library": "var_list.r",
     "varRefreshCmd": "cat(var_dic_list()) "
    }
   },
   "types_to_exclude": [
    "module",
    "function",
    "builtin_function_or_method",
    "instance",
    "_Feature"
   ],
   "window_display": false
  }
 },
 "nbformat": 4,
 "nbformat_minor": 4
}
