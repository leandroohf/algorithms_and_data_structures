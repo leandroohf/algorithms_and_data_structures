{
 "cells": [
  {
   "cell_type": "markdown",
   "metadata": {},
   "source": [
    "# Binary Tree\n",
    "\n",
    "Refs:\n",
    "* https://stackoverflow.com/questions/2598437/how-to-implement-a-binary-tree\n",
    "* https://www.geeksforgeeks.org/binary-search-tree-data-structure/\n",
    "\n",
    "\n",
    "A binary tree is a tree where each node has at most 2 child. A Binary Tree node contains following parts.\n",
    "\n",
    "Data\n",
    "Pointer to left child\n",
    "Pointer to right child\n",
    "\n",
    "Some tree data structure definitions\n",
    "\n",
    "* the first Node is always the **root** \n",
    "* Nodes in the midle are called **child** \n",
    "* Node without child in the bottom are called **leaves**\n",
    "* Nodes in the same level are called **simblings** \n",
    "* level: The Node A (root) is in the level 0 and the Nodes B, C and E are in the level 1.\n",
    "* height: is the largest path form root to a leaf.\n",
    "    * In the tree below the height is 4\n",
    "    * $h = l +1$\n",
    "\n",
    "\n",
    "Priperties:\n",
    "\n",
    "* The max number of Nodes per level is given by: $2^l$\n",
    "* Max number of Nodes in binary tree: $2^h - 1$\n",
    "* In binary tree with $N$ Nodes. The possible minimum possible height:\n",
    "\n",
    "$ \n",
    "N = 2^h - 1 \\\\\n",
    "2^h = N + 1 \\\\\n",
    "h = log_2(N+1) \\\\\n",
    "$\n",
    "\n",
    "Example:\n",
    "\n",
    "<img src=\"./images/tree_example.png\" alt=\"\" width=\"600\" height=\"400\">\n",
    "\n",
    "-------\n",
    "\n",
    "A tree can be traversed in many different ways:\n",
    "\n",
    "1. DFS: Depth First Search \n",
    " \n",
    "    1. In-order (LNR). **Used in deleteion**\n",
    "        * In the binary tree in the next sections: 1, 3, 4, 6, 7, 8, 13, 14, 10 \n",
    "        \n",
    "    1. Pre-order  (NLR). **Hint root is the first element**\n",
    "        * In the binary tree in the next sections: 8, 3, 1, 6, 4, 7, 10, 14, 13  \n",
    "        \n",
    "    1. Reverse in-order (RNL) \n",
    "    \n",
    "    1. Post-order (LRN). **Hint root is the last element**\n",
    "        * In the binary tree in the next sections: 1, 4, 7, 6, 3, 13, 14,10, 8  \n",
    "\n",
    "\n",
    "1. BFS: Breath Search First\n",
    "\n",
    "    * Trees can also be traversed in level-order, where we visit every node on a level before going to a lower level. **Hint  this the one you want to print a tree**\n"
   ]
  },
  {
   "cell_type": "markdown",
   "metadata": {},
   "source": [
    "## Binary Search Tree\n",
    "\n",
    "Binary Search Tree is a node-based binary tree data structure which has the following properties:\n",
    "    \n",
    "* The left subtree of a node contains only nodes with keys lesser than the node’s key\n",
    "* The right subtree of a node contains only nodes with keys greater than the node’s key\n",
    "* The left and right subtree each must also be a binary search tree\n",
    "\n",
    "\n",
    "See example below:"
   ]
  },
  {
   "cell_type": "markdown",
   "metadata": {},
   "source": [
    "<img src=\"./images/BSTSearch.png\" alt=\"\" width=\"300\" height=\"400\">"
   ]
  },
  {
   "cell_type": "markdown",
   "metadata": {},
   "source": [
    "### BST operations\n",
    "\n"
   ]
  },
  {
   "cell_type": "markdown",
   "metadata": {
    "heading_collapsed": true
   },
   "source": [
    "#### Search"
   ]
  },
  {
   "cell_type": "markdown",
   "metadata": {
    "hidden": true
   },
   "source": [
    "\n",
    "1. Start from the root. \n",
    "1. Compare the element with root, if less than root, then recurse for left, else recurse for right. \n",
    "1. If the element is found, return true, else false\n",
    "    \n",
    "    \n",
    "```python \n",
    "\n",
    "def search(self, val):\n",
    "    \n",
    "    if root is not None:\n",
    "        \n",
    "        return self._recursive_search(root, val)\n",
    "    \n",
    "    else:\n",
    "        \n",
    "        return None\n",
    "    \n",
    "def _recursive_search(self, Node, val):\n",
    "\n",
    "    # Found \n",
    "    if val == Node.val:\n",
    "        \n",
    "        return Node \n",
    "    \n",
    "    # search right \n",
    "    elif val > Node.val:\n",
    "        \n",
    "        return self._recursive_search(Node.right, val)\n",
    "        \n",
    "    # search right \n",
    "    else:\n",
    "        \n",
    "        return self._recursive_search(Node.left, val)\n",
    "```"
   ]
  },
  {
   "cell_type": "markdown",
   "metadata": {
    "heading_collapsed": true
   },
   "source": [
    "#### Insert\n"
   ]
  },
  {
   "cell_type": "markdown",
   "metadata": {
    "hidden": true
   },
   "source": [
    "1. Start from. \n",
    "1. Search left if new val less than the node or right otherwise\n",
    "1. We insert the lement when we reach a leaf Node. We always insert in a leaf node\n",
    "   \n",
    "```python\n",
    "\n",
    "    def add(self, val):\n",
    "        \n",
    "        if self.root is None:\n",
    "            \n",
    "            self.root = Node(val)\n",
    "            \n",
    "        else:\n",
    "            \n",
    "            self._add_recursive(val, self.root)\n",
    "\n",
    "            \n",
    "    def _add_recursive(self, Node):\n",
    "        \n",
    "        \n",
    "            \n",
    "```\n"
   ]
  },
  {
   "cell_type": "markdown",
   "metadata": {},
   "source": [
    "#### Delete (Harder than the others)\n"
   ]
  },
  {
   "cell_type": "markdown",
   "metadata": {},
   "source": [
    "\n",
    "* **Node to be deleted is leaf**: Simply remove from the tree.\n",
    "    \n",
    "    ```text\n",
    "             50                            50\n",
    "           /     \\         delete(20)      /   \\\n",
    "          30      70       --------->    30     70 \n",
    "         /  \\    /  \\                     \\    /  \\ \n",
    "       20   40  60   80                   40  60   80\n",
    "\n",
    "    ```\n",
    "    \n",
    "* **Node to be deleted has only one child**: Copy the child to the node and delete the child \n",
    "    \n",
    "     \n",
    "    ```text\n",
    "              50                            50\n",
    "           /     \\         delete(30)      /   \\\n",
    "          30      70       --------->    40     70 \n",
    "            \\    /  \\                          /  \\ \n",
    "            40  60   80                       60   80\n",
    "\n",
    "    ```\n",
    "    \n",
    "* **Node to be deleted has two children**: Find inorder successor of the node. Copy contents of the inorder successor to the node and delete the inorder successor. Note that inorder predecessor can also be used. \n",
    "    \n",
    "     \n",
    "    ```text\n",
    "              50                            60\n",
    "           /     \\         delete(50)      /   \\\n",
    "          40      70       --------->    40    70 \n",
    "                 /  \\                            \\ \n",
    "                60   80                           80\n",
    "\n",
    "    ```   \n",
    " \n",
    " \n",
    "```python\n",
    "\n",
    "\n",
    "    def delete(self,val):\n",
    "        \n",
    "        if self.root is not none\n",
    "        \n",
    "        \n",
    "            return self._recursive_delete(self.root, val)\n",
    "        \n",
    "        else:\n",
    "            \n",
    "            return False\n",
    "        \n",
    "        \n",
    "    def _recursive_delete(self, Node, val):\n",
    "        \n",
    "        \n",
    "        if val < Node.key:\n",
    "            \n",
    "            return self._recursive_delete(Node.left, val)\n",
    "            \n",
    "        elif val > Node.key\n",
    "\n",
    "            return self._recursive_delete(Node.right, val)\n",
    "            \n",
    "        else:\n",
    "            \n",
    "            # Node with only one child or no child\n",
    "            if Node.left is None:\n",
    "                \n",
    "                temp = Node.right\n",
    "                Node = None\n",
    "                \n",
    "                return temp\n",
    " \n",
    "            elif Node.right is None:\n",
    "                \n",
    "                temp = Node.left\n",
    "                Node = None\n",
    "                \n",
    "            return temp\n",
    " \n",
    "        ## XXX; PAREI AQUI  <==================================\n",
    "        # Node with two children: \n",
    "        # Get the inorder successor\n",
    "        # (smallest in the right subtree)\n",
    "        temp = minValueNode(root.right)\n",
    " \n",
    "        # Copy the inorder successor's \n",
    "        # content to this node\n",
    "        root.key = temp.key\n",
    " \n",
    "        # Delete the inorder successor\n",
    "        root.right = deleteNode(root.right, temp.key)\n",
    "        \n",
    "```\n",
    "    "
   ]
  },
  {
   "cell_type": "markdown",
   "metadata": {},
   "source": [
    "### Traversal: DFS"
   ]
  },
  {
   "cell_type": "markdown",
   "metadata": {},
   "source": [
    "### Traversal: BFS"
   ]
  },
  {
   "cell_type": "markdown",
   "metadata": {},
   "source": [
    "## Heap tree\n",
    "\n",
    "**TODO**"
   ]
  },
  {
   "cell_type": "code",
   "execution_count": null,
   "metadata": {},
   "outputs": [],
   "source": []
  }
 ],
 "metadata": {
  "kernelspec": {
   "display_name": "Python 3",
   "language": "python",
   "name": "python3"
  },
  "language_info": {
   "codemirror_mode": {
    "name": "ipython",
    "version": 3
   },
   "file_extension": ".py",
   "mimetype": "text/x-python",
   "name": "python",
   "nbconvert_exporter": "python",
   "pygments_lexer": "ipython3",
   "version": "3.8.3"
  },
  "toc": {
   "base_numbering": 1,
   "nav_menu": {},
   "number_sections": true,
   "sideBar": true,
   "skip_h1_title": true,
   "title_cell": "Table of Contents",
   "title_sidebar": "Contents",
   "toc_cell": false,
   "toc_position": {},
   "toc_section_display": true,
   "toc_window_display": true
  },
  "varInspector": {
   "cols": {
    "lenName": 16,
    "lenType": 16,
    "lenVar": 40
   },
   "kernels_config": {
    "python": {
     "delete_cmd_postfix": "",
     "delete_cmd_prefix": "del ",
     "library": "var_list.py",
     "varRefreshCmd": "print(var_dic_list())"
    },
    "r": {
     "delete_cmd_postfix": ") ",
     "delete_cmd_prefix": "rm(",
     "library": "var_list.r",
     "varRefreshCmd": "cat(var_dic_list()) "
    }
   },
   "types_to_exclude": [
    "module",
    "function",
    "builtin_function_or_method",
    "instance",
    "_Feature"
   ],
   "window_display": false
  }
 },
 "nbformat": 4,
 "nbformat_minor": 4
}
