{
 "cells": [
  {
   "cell_type": "markdown",
   "metadata": {},
   "source": [
    "# Tree\n",
    "\n",
    "In this notebook ww will introduce some Tree concepts but the mani focus of this notebook is to learn about **Binary Search Tree**\n",
    "\n",
    "Refs:\n",
    "* https://stackoverflow.com/questions/2598437/how-to-implement-a-binary-tree\n",
    "* https://www.geeksforgeeks.org/binary-search-tree-data-structure/\n",
    "* https://www.geeksforgeeks.org/bfs-vs-dfs-binary-tree/\n",
    "\n",
    "## Intro\n",
    "\n",
    "Some tree data structure definitions\n",
    "\n",
    "* the first Node is always the **root** \n",
    "* Nodes in the midle are called **child** \n",
    "* Node without child in the bottom are called **leaves**\n",
    "* Nodes in the same level are called **simblings** \n",
    "* Branch: Nodes A, B n G are in the same branch and the A,C,F are in another branch\n",
    "* level: The Node A (root) is in the level 0 and the Nodes B, C and E are in the level 1.\n",
    "* height: is the largest path form root to a leaf.\n",
    "    * In the tree below the height is 4\n",
    "    * $h = l +1$\n"
   ]
  },
  {
   "cell_type": "markdown",
   "metadata": {},
   "source": [
    "Example of Tree (PS: It is not Binary tree but it has all the terms described above)\n",
    "\n",
    "<a id='tree_example'></a>\n",
    "<img src=\"./images/tree_example.png\" alt=\"\" width=\"600\" height=\"400\">"
   ]
  },
  {
   "cell_type": "markdown",
   "metadata": {},
   "source": [
    "## Binary tree \n",
    "\n",
    "A binary tree is a tree where each node has at most 2 child. A Binary Tree node contains following parts.\n",
    "\n",
    "Data\n",
    "Pointer to left child\n",
    "Pointer to right child\n",
    "\n",
    "Properties:\n",
    "\n",
    "* The max number of Nodes per level is given by: $2^l$\n",
    "* Max number of Nodes in binary tree: $2^h - 1$\n",
    "* In binary tree with $N$ Nodes. The minimum possible height:\n",
    "\n",
    "$ \n",
    "N = 2^h - 1 \\\\\n",
    "2^h = N + 1 \\\\\n",
    "h = log_2(N+1) \\\\\n",
    "$\n"
   ]
  },
  {
   "cell_type": "markdown",
   "metadata": {},
   "source": [
    "###  Traversal trees\n",
    "\n",
    "A tree can be traversed in many different ways:\n",
    "\n",
    "1. **DFS: Depth First Search** \n",
    " \n",
    "    1. In-order (LNR)\n",
    "        * In the [Binary tree example](#bnary_tree_example) in the next sections: 1, 3, 4, 6, 7, 8, 10, 13, 14 \n",
    "        * always produces **sorted output**\n",
    "        * **Used in deleteion**\n",
    "        \n",
    "    1. Pre-order  (NLR). ***Hint Pre mean visit node first and then process in order LR** <- for memorization\n",
    "        * In the [Binary tree example](#bnary_tree_example) in the next sections: 8, 3, 1, 6, 4, 7, 10, 14, 13  \n",
    "        * **Root** is always the first element\n",
    "        \n",
    "    1. Reverse in-order (RNL) \n",
    "    \n",
    "    1. Post-order (LRN). ***Hint Post mean visit node last and then process in order LR** <- for memorization\n",
    "        * In [Binary tree example](#bnary_tree_example)in the next sections: 1, 4, 7, 6, 3, 13, 14,10, 8  \n",
    "        * **Root** is always the last element\n",
    "\n",
    "\n",
    "1. **BFS: Breath Search First**\n",
    "\n",
    "    * Trees can also be traversed in level-order, where we visit every node on a level before going to a lower level. **Hint  this the one you want to print a tree**"
   ]
  },
  {
   "cell_type": "markdown",
   "metadata": {},
   "source": [
    "## Binary Search Tree\n",
    "\n",
    "Binary Search Tree is a node-based binary tree data structure which has the following properties:\n",
    "    \n",
    "* The left subtree of a node contains only nodes with keys lesser than the node’s key\n",
    "* The right subtree of a node contains only nodes with keys greater than the node’s key\n",
    "* The left and right subtree each must also be a binary search tree\n",
    "\n",
    "\n",
    "See example below:"
   ]
  },
  {
   "cell_type": "markdown",
   "metadata": {},
   "source": [
    "<a id='bnary_tree_example'></a>\n",
    "<img src=\"./images/BSTSearch.png\" alt=\"\" width=\"300\" height=\"400\">"
   ]
  },
  {
   "cell_type": "markdown",
   "metadata": {
    "heading_collapsed": true
   },
   "source": [
    "### BST operations\n"
   ]
  },
  {
   "cell_type": "markdown",
   "metadata": {
    "hidden": true
   },
   "source": [
    "#### Search and insert \n",
    "\n",
    "For search and insert the Time complexity is\n",
    "\n",
    "* O(h)\n",
    "* Worst case when the tree is not balanced all nodels is in one branch; O(n)\n"
   ]
  },
  {
   "cell_type": "markdown",
   "metadata": {
    "hidden": true
   },
   "source": [
    "**Search**\n",
    "\n",
    "1. Start from the root. \n",
    "1. Compare the element with root, if less than root, then recurse for left, else recurse for right. \n",
    "1. If the element is found, return true, else false\n",
    "    \n",
    "    \n",
    "```python \n",
    "\n",
    "def search(self, val):\n",
    "    \n",
    "    if root is not None:\n",
    "        \n",
    "        return self._recursive_search(root, val)\n",
    "    \n",
    "    else:\n",
    "        \n",
    "        return None\n",
    "    \n",
    "def _recursive_search(self, node, val):\n",
    "\n",
    "    # Found \n",
    "    if val == node.val:\n",
    "        \n",
    "        return node \n",
    "    \n",
    "    # search right \n",
    "    elif val > node.val:\n",
    "        \n",
    "        return self._recursive_search(node.right, val)\n",
    "        \n",
    "    # search right \n",
    "    else:\n",
    "        \n",
    "        return self._recursive_search(node.left, val)\n",
    "```"
   ]
  },
  {
   "cell_type": "markdown",
   "metadata": {
    "hidden": true
   },
   "source": [
    "**Insert**\n",
    "\n",
    "1. Start from. \n",
    "1. Search left if new val less than the node or right otherwise\n",
    "1. We insert the lement when we reach a leaf Node. We always insert in a leaf node\n",
    "   \n",
    "```python\n",
    "\n",
    "    def add(self, val):\n",
    "        \n",
    "        if self.root is None:\n",
    "            \n",
    "            self.root = node(val)\n",
    "            \n",
    "        else:\n",
    "            \n",
    "            self._add_recursive(val, self.root)\n",
    "\n",
    "            \n",
    "    def _add_recursive(self, node, val):\n",
    "        \n",
    "        if val < node.val:\n",
    "            \n",
    "            if node.left is not None:\n",
    "                self._add(val, node.l)\n",
    "            else:\n",
    "                node.left = node(val)\n",
    "        else:\n",
    "            \n",
    "            if node.right is not None:\n",
    "                \n",
    "                self._add(val, node.right)\n",
    "                \n",
    "            else:\n",
    "                \n",
    "                node.right = node(val)\n",
    "        \n",
    "            \n",
    "```\n"
   ]
  },
  {
   "cell_type": "markdown",
   "metadata": {
    "hidden": true
   },
   "source": [
    "#### Delete (Harder than the others)\n"
   ]
  },
  {
   "cell_type": "markdown",
   "metadata": {
    "hidden": true
   },
   "source": [
    "\n",
    "* **Node to be deleted is leaf**: Simply remove from the tree.\n",
    "    \n",
    "    ```text\n",
    "             50                            50\n",
    "           /     \\         delete(20)      /   \\\n",
    "          30      70       --------->    30     70 \n",
    "         /  \\    /  \\                     \\    /  \\ \n",
    "       20   40  60   80                   40  60   80\n",
    "\n",
    "    ```\n",
    "    \n",
    "* **Node to be deleted has only one child**: Copy the child to the node and delete the child \n",
    "    \n",
    "     \n",
    "    ```text\n",
    "              50                            50\n",
    "           /     \\         delete(30)      /   \\\n",
    "          30      70       --------->    40     70 \n",
    "            \\    /  \\                          /  \\ \n",
    "            40  60   80                       60   80\n",
    "\n",
    "    ```\n",
    "    \n",
    "* **Node to be deleted has two children**: Find inorder successor of the node. Copy contents of the inorder successor to the node and delete the inorder successor. Note that inorder predecessor can also be used. \n",
    "    \n",
    "     \n",
    "    ```text\n",
    "              50                            60\n",
    "           /     \\         delete(50)      /   \\\n",
    "          40      70       --------->    40    70 \n",
    "                 /  \\                            \\ \n",
    "                60   80                           80\n",
    "\n",
    "    ```   \n",
    " \n",
    " \n",
    "```python\n",
    "\n",
    "\n",
    "    def delete(self,val):\n",
    "        \n",
    "        if self.root is not none\n",
    "        \n",
    "        \n",
    "            return self._recursive_delete(self.root, val)\n",
    "        \n",
    "        else:\n",
    "            \n",
    "            return False\n",
    "        \n",
    "        \n",
    "    def _recursive_delete(self, Node, val):\n",
    "        \n",
    "        \n",
    "        if val < Node.key:\n",
    "            \n",
    "            return self._recursive_delete(Node.left, val)\n",
    "            \n",
    "        elif val > Node.key\n",
    "\n",
    "            return self._recursive_delete(Node.right, val)\n",
    "            \n",
    "        else:\n",
    "            \n",
    "            # Node with only one child or no child\n",
    "            if Node.left is None:\n",
    "                \n",
    "                temp = Node.right\n",
    "                Node = None\n",
    "                \n",
    "                return temp\n",
    " \n",
    "            elif Node.right is None:\n",
    "                \n",
    "                temp = Node.left\n",
    "                Node = None\n",
    "                \n",
    "            return temp\n",
    " \n",
    "        ## XXX; PAREI AQUI  <==================================\n",
    "        # Node with two children: \n",
    "        # Get the inorder successor\n",
    "        # (smallest in the right subtree)\n",
    "        temp = minValueNode(root.right)\n",
    " \n",
    "        # Copy the inorder successor's \n",
    "        # content to this node\n",
    "        root.key = temp.key\n",
    " \n",
    "        # Delete the inorder successor\n",
    "        root.right = deleteNode(root.right, temp.key)\n",
    "        \n",
    "```\n",
    "    "
   ]
  },
  {
   "cell_type": "markdown",
   "metadata": {
    "heading_collapsed": true
   },
   "source": [
    "### BST Implementation"
   ]
  },
  {
   "cell_type": "code",
   "execution_count": 1,
   "metadata": {
    "hidden": true
   },
   "outputs": [],
   "source": [
    "import IPython\n",
    "from IPython.core.interactiveshell import InteractiveShell\n",
    "InteractiveShell.ast_node_interactivity = \"all\""
   ]
  },
  {
   "cell_type": "code",
   "execution_count": 2,
   "metadata": {
    "code_folding": [
     0,
     2,
     16,
     22,
     26,
     30,
     41,
     70,
     82
    ],
    "hidden": true
   },
   "outputs": [],
   "source": [
    "class Node():\n",
    "    \n",
    "    def __init__(self, val, data=None):\n",
    "           \n",
    "        self.data = data   \n",
    "        self.val = val\n",
    "        \n",
    "        self.left = None\n",
    "        self.right = None\n",
    "        \n",
    "    def show_node(self):\n",
    "        \n",
    "        return f\"node val: {self.val}, data: {self.data}, left: {self.left}, right: {self.right}\"\n",
    "\n",
    "class BST():\n",
    "        \n",
    "    def __init__(self, root=None):\n",
    "        \n",
    "        self._root = root\n",
    "        \n",
    "        self._n_of_nodes = 0 if root is None else 1\n",
    "\n",
    "    def get_number_of_nodes(self):\n",
    "    \n",
    "        return self._n_of_nodes\n",
    "    \n",
    "    def get_root(self):\n",
    "        \n",
    "        return self._root\n",
    "        \n",
    "    def search(self,val):\n",
    "        \n",
    "        if self._root is None:\n",
    "            \n",
    "            return None\n",
    "        \n",
    "        else:\n",
    "            \n",
    "            return self._recursive_search(self._root, val)\n",
    "     \n",
    "    def _recursive_search(self,node, val):\n",
    "        \n",
    "        \n",
    "        if val == node.val:\n",
    "            \n",
    "            #print(f\"found you\")\n",
    "            return node\n",
    "    \n",
    "        elif val < node.val:\n",
    "            \n",
    "            if node.left is None:\n",
    "                \n",
    "                return None\n",
    "            \n",
    "            else:\n",
    "                #print(\"serach left\")\n",
    "                return self._recursive_search(node.left, val)\n",
    "            \n",
    "        else:\n",
    "            \n",
    "            if node.right is None:\n",
    "                \n",
    "                return None\n",
    "            \n",
    "            else:\n",
    "                #print(\"serach right\")\n",
    "                return self._recursive_search(node.right, val)\n",
    "                \n",
    "\n",
    "    def add(self, new_node):\n",
    "        \n",
    "        if self._root is None:\n",
    "\n",
    "            #print(f\"insert root: {new_node.val:}\")\n",
    "            self._root = new_node\n",
    "            self._n_of_nodes += 1 \n",
    "            \n",
    "        else:\n",
    "            \n",
    "            self._recursive_add(self._root, new_node)\n",
    "            \n",
    "    def _recursive_add(self,node, new_node):\n",
    "        \n",
    "        # insert right\n",
    "        if new_node.val > node.val:\n",
    "\n",
    "            if node.right is None:\n",
    "                \n",
    "                # insert\n",
    "                #print(f\"insert right: {new_node.val}\")\n",
    "                node.right = new_node\n",
    "                self._n_of_nodes += 1 \n",
    "                \n",
    "            else:\n",
    "                \n",
    "                # search right\n",
    "                \n",
    "                self._recursive_add(node.right, new_node)\n",
    "                \n",
    "        # do not insert repeated values\n",
    "        elif new_node.val <  node.val:\n",
    "            \n",
    "            if node.left is None:\n",
    "            \n",
    "                # insert\n",
    "                #print(f\"insert left: {new_node.val}\")\n",
    "                node.left = new_node\n",
    "                self._n_of_nodes += 1 \n",
    "                \n",
    "            else:\n",
    "                \n",
    "                # search left\n",
    "                self._recursive_add(node.left, new_node)\n",
    "                "
   ]
  },
  {
   "cell_type": "markdown",
   "metadata": {
    "heading_collapsed": true
   },
   "source": [
    "### Testing implementation"
   ]
  },
  {
   "cell_type": "code",
   "execution_count": 3,
   "metadata": {
    "hidden": true
   },
   "outputs": [
    {
     "data": {
      "text/plain": [
       "'node val: 10, data: None, left: None, right: None'"
      ]
     },
     "execution_count": 3,
     "metadata": {},
     "output_type": "execute_result"
    }
   ],
   "source": [
    "new_node = Node(10)\n",
    "    \n",
    "new_node.show_node()"
   ]
  },
  {
   "cell_type": "code",
   "execution_count": 4,
   "metadata": {
    "hidden": true
   },
   "outputs": [
    {
     "name": "stdout",
     "output_type": "stream",
     "text": [
      "\n",
      "#nodes: 9\n",
      "\n",
      "search 8: found: node val: 8, data: 0, left: <__main__.Node object at 0x7fa910fd9c40>, right: <__main__.Node object at 0x7fa8ebb3eb50>\n",
      "\n",
      "search 3: found: node val: 3, data: 1, left: <__main__.Node object at 0x7fa8ebb3e940>, right: <__main__.Node object at 0x7fa8ebb3eaf0>\n",
      "\n",
      "search 1: found: node val: 1, data: 2, left: None, right: None\n",
      "\n",
      "search 6: found: node val: 6, data: 3, left: <__main__.Node object at 0x7fa8ebb3e7f0>, right: <__main__.Node object at 0x7fa8ebb3e910>\n",
      "\n",
      "search 4: found: node val: 4, data: 4, left: None, right: None\n",
      "\n",
      "search 7: found: node val: 7, data: 5, left: None, right: None\n",
      "\n",
      "search 10: found: node val: 10, data: 6, left: None, right: <__main__.Node object at 0x7fa8ebb3e6a0>\n",
      "\n",
      "search 14: found: node val: 14, data: 7, left: <__main__.Node object at 0x7fa8ebb3ea60>, right: None\n",
      "\n",
      "search 13: found: node val: 13, data: 8, left: None, right: None\n",
      "\n"
     ]
    }
   ],
   "source": [
    "arr = [8, 3, 1, 6, 4, 7, 10, 14, 13 ]\n",
    "\n",
    "bst = BST()\n",
    "for idx, val in enumerate(arr):\n",
    "    \n",
    "    new_node = Node(val,idx)\n",
    "    bst.add(new_node)\n",
    "    \n",
    "print()\n",
    "print(f\"#nodes: {bst.get_number_of_nodes()}\")\n",
    "\n",
    "print()\n",
    "# tesitng search\n",
    "for val in arr:\n",
    "\n",
    "    node = bst.search(val)\n",
    "    print(f\"search {val}: found: {node.show_node()}\")\n",
    "    print()\n"
   ]
  },
  {
   "cell_type": "markdown",
   "metadata": {},
   "source": [
    "## Traversal: DFS vs BSF"
   ]
  },
  {
   "cell_type": "markdown",
   "metadata": {},
   "source": [
    "Traversal means you want to visit all nodes (do something with the values). So we need to process the nodes in some order (there is more than one way to do it) and track the nodes already visited for unnecessary work.\n",
    "\n",
    "The tree does **NOT** need to be BST. \n",
    "\n",
    "Ex: \n",
    "\n",
    "```txt\n",
    "        A\n",
    "       / \\\n",
    "      B   C\n",
    "     /   / \\\n",
    "    D   E   F\n",
    "```\n",
    "\n",
    "BSF: A, B, C, D, E, F  \n",
    "DSF: A, B, D, C, E, F  \n",
    "\n",
    "\n",
    "* All traversals require **O(n) time** when n is the number o nodes in the tree as they visit every node exactly once\n",
    "\n",
    "* BSF\n",
    "\n",
    "    * Utilize **queue** in the implementation\n",
    "\n",
    "    * Space complexity O(w) where w is maximum width of Binary Tree. The maximum number of elements in the **queue** (extra space) is w\n",
    "    \n",
    "* DFS\n",
    "\n",
    "    * Utilize **stack** in the implementation\n",
    "    \n",
    "    * Space complexity O(h) where the h is the maximum height (depth of the largest brench). The maximum number of element in the **stack** (extra space) is h\n",
    " \n",
    "How to Pick One?\n",
    "\n",
    "* The most important points is, **BFS starts visiting nodes from root** while **DFS starts visiting nodes from leaves**. \n",
    "\n",
    "    So if our problem is to search something that is more likely to closer to root, we would prefer BFS. And if the target node is close to a leaf, we would prefer DFS.  \n",
    "    \n",
    "\n",
    "* Extra Space can be one factor. h >> w or w >> h?  \n",
    "\n",
    "* Depth First Traversals are typically recursive and recursive code requires function call overheads  \n",
    "\n",
    "\n",
    "For exercise example:\n",
    "\n",
    "* Which traversal should be used to print leaves of Binary Tree and why? DFS\n",
    "\n",
    "* Which traversal should be used to print nodes at k’th level where k is much less than total number of levels? BFS"
   ]
  },
  {
   "cell_type": "markdown",
   "metadata": {},
   "source": [
    "#### DSF"
   ]
  },
  {
   "cell_type": "markdown",
   "metadata": {},
   "source": [
    "* in-order (Remember for BST gives you sorted output)\n",
    "\n",
    "    1. Traverse the left subtree, i.e., call Inorder(left-subtree)\n",
    "    1. Visit Root (Node)\n",
    "    1. Traverse the right subtree, i.e., call Inorder(right-subtree)\n",
    "\n",
    "* Preorder(tree)\n",
    "\n",
    "   1. Visit the root.\n",
    "   2. Traverse the left subtree, i.e., call Preorder(left-subtree)\n",
    "   3. Traverse the right subtree, i.e., call Preorder(right-subtree) "
   ]
  },
  {
   "cell_type": "code",
   "execution_count": 22,
   "metadata": {},
   "outputs": [],
   "source": [
    "def process(node):\n",
    "    \n",
    "    print(f\"Node: {node.val}\")\n",
    "\n",
    "\n",
    "def dfs_inorder(node):\n",
    "        \n",
    "    if node is not None:\n",
    "\n",
    "        dfs_inorder(node.left)\n",
    "        \n",
    "        process(node)\n",
    "        \n",
    "        dfs_inorder(node.right)\n",
    "        \n",
    "        \n",
    "def dfs_preorder(node):\n",
    "\n",
    "    if node is not None:\n",
    "\n",
    "        ## root always first\n",
    "        process(node)\n",
    "        \n",
    "        dfs_preorder(node.left)\n",
    "        \n",
    "        dfs_preorder(node.right)\n",
    "        \n",
    "def dfs_postorder(node):\n",
    "\n",
    "    if node is not None:\n",
    "        \n",
    "        dfs_postorder(node.left)\n",
    "        \n",
    "        dfs_postorder(node.right)\n",
    "        \n",
    "        # root always last \n",
    "        process(node)       "
   ]
  },
  {
   "cell_type": "markdown",
   "metadata": {},
   "source": [
    "See geek4geek examples with Binary tree **but not BST**: [DFS inorder](https://www.geeksforgeeks.org/dfs-traversal-of-a-tree-using-recursion/)"
   ]
  },
  {
   "cell_type": "code",
   "execution_count": 23,
   "metadata": {},
   "outputs": [
    {
     "name": "stdout",
     "output_type": "stream",
     "text": [
      "\n",
      "Inorder: 4 2 5 1 3\n",
      "Node: 4\n",
      "Node: 2\n",
      "Node: 5\n",
      "Node: 1\n",
      "Node: 3\n",
      "\n",
      "Preorder: 1 2 4 5 3\n",
      "Node: 1\n",
      "Node: 2\n",
      "Node: 4\n",
      "Node: 5\n",
      "Node: 3\n",
      "\n",
      "Postorder: 4 5 2 3 1\n",
      "Node: 4\n",
      "Node: 5\n",
      "Node: 2\n",
      "Node: 3\n",
      "Node: 1\n"
     ]
    }
   ],
   "source": [
    "# Tree geek4geek example\n",
    "root = Node(1) \n",
    "root.left = Node(2) \n",
    "root.right = Node(3) \n",
    "root.left.left = Node(4) \n",
    "root.left.right = Node(5) \n",
    "  \n",
    "print(\"\\nInorder: 4 2 5 1 3\")\n",
    "# Expected: 4 2 5 1 3\n",
    "dfs_inorder(root) \n",
    "\n",
    "print(\"\\nPreorder: 1 2 4 5 3\")\n",
    "# Expected:1 2 4 5 3\n",
    "dfs_preorder(root)\n",
    "\n",
    "print(\"\\nPostorder: 4 5 2 3 1\")\n",
    "# Expected: 4 5 2 3 1\n",
    "dfs_postorder(root)"
   ]
  },
  {
   "cell_type": "markdown",
   "metadata": {},
   "source": [
    "<a id='bnary_tree_example'></a>\n",
    "[Binary tree example](#bnary_tree_example)"
   ]
  },
  {
   "cell_type": "code",
   "execution_count": 24,
   "metadata": {},
   "outputs": [
    {
     "name": "stdout",
     "output_type": "stream",
     "text": [
      "Node: 1\n",
      "Node: 3\n",
      "Node: 4\n",
      "Node: 6\n",
      "Node: 7\n",
      "Node: 8\n",
      "Node: 10\n",
      "Node: 13\n",
      "Node: 14\n"
     ]
    }
   ],
   "source": [
    "# See Binary tree example\n",
    "root = bst.get_root()\n",
    "\n",
    "# Expect: 1, 3, 4, 6, 7, 8, 10, 13, 14\n",
    "dfs_inorder(root)"
   ]
  },
  {
   "cell_type": "markdown",
   "metadata": {},
   "source": [
    "#### BSF"
   ]
  },
  {
   "cell_type": "code",
   "execution_count": null,
   "metadata": {},
   "outputs": [],
   "source": []
  },
  {
   "cell_type": "markdown",
   "metadata": {},
   "source": [
    "## Compute the height and the size of the tree\n",
    "\n",
    "ref: \n",
    "* https://www.geeksforgeeks.org/write-a-c-program-to-find-the-maximum-depth-or-height-of-a-tree/\n",
    "* https://www.geeksforgeeks.org/iterative-method-to-find-height-of-binary-tree/\n",
    "\n",
    "\n",
    "$\n",
    "log_b(a) = \\frac{log(a)}{log(b)}\n",
    "$\n",
    "\n",
    "```python\n",
    "import math \n",
    "\n",
    "## log base 2\n",
    "math.log(4,2)\n",
    "\n",
    "# ln \n",
    "math.log(math.exp(3.0))\n",
    "\n",
    "```\n"
   ]
  },
  {
   "cell_type": "code",
   "execution_count": null,
   "metadata": {},
   "outputs": [],
   "source": []
  },
  {
   "cell_type": "markdown",
   "metadata": {},
   "source": [
    "## Heap \n",
    "\n",
    "TODO"
   ]
  },
  {
   "cell_type": "code",
   "execution_count": null,
   "metadata": {},
   "outputs": [],
   "source": []
  }
 ],
 "metadata": {
  "kernelspec": {
   "display_name": "Python 3",
   "language": "python",
   "name": "python3"
  },
  "language_info": {
   "codemirror_mode": {
    "name": "ipython",
    "version": 3
   },
   "file_extension": ".py",
   "mimetype": "text/x-python",
   "name": "python",
   "nbconvert_exporter": "python",
   "pygments_lexer": "ipython3",
   "version": "3.8.3"
  },
  "toc": {
   "base_numbering": 1,
   "nav_menu": {},
   "number_sections": true,
   "sideBar": true,
   "skip_h1_title": true,
   "title_cell": "Table of Contents",
   "title_sidebar": "Contents",
   "toc_cell": false,
   "toc_position": {},
   "toc_section_display": true,
   "toc_window_display": true
  },
  "varInspector": {
   "cols": {
    "lenName": 16,
    "lenType": 16,
    "lenVar": 40
   },
   "kernels_config": {
    "python": {
     "delete_cmd_postfix": "",
     "delete_cmd_prefix": "del ",
     "library": "var_list.py",
     "varRefreshCmd": "print(var_dic_list())"
    },
    "r": {
     "delete_cmd_postfix": ") ",
     "delete_cmd_prefix": "rm(",
     "library": "var_list.r",
     "varRefreshCmd": "cat(var_dic_list()) "
    }
   },
   "types_to_exclude": [
    "module",
    "function",
    "builtin_function_or_method",
    "instance",
    "_Feature"
   ],
   "window_display": false
  }
 },
 "nbformat": 4,
 "nbformat_minor": 4
}
