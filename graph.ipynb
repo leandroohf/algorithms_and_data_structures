{
 "cells": [
  {
   "cell_type": "markdown",
   "metadata": {},
   "source": [
    "# Graph \n",
    "\n",
    "refs:\n",
    "* https://www.freecodecamp.org/news/a-gentle-introduction-to-data-structures-how-graphs-work-a223d9ef8837/\n",
    "* https://www.youtube.com/watch?v=zaBhtODEL0w\n",
    "* https://cs.stackexchange.com/questions/73686/why-do-we-prefer-dfs-to-find-connected-components\n",
    "* https://www.interviewcake.com/concept/python/graph?\n",
    "* https://www.quora.com/Why-is-the-complexity-of-DFS-O-V+E\n",
    "* https://www.quora.com/What-is-the-time-complexity-of-Breadth-First-Search-Traversal-of-a-graph\n",
    "* https://adrianmejia.com/data-structures-for-beginners-graphs-time-complexity-tutorial/\n",
    "\n",
    "Few notes and term\n",
    "\n",
    "* **degree**: is the number of edges of a node or vertex. maximun if the maximum degree of all nodes\n",
    "* **A total connected graph has $\\frac{nV (nV-1)}{2}$ edges**\n",
    "* High density graphs like the ones in social media: $nE >> nV$\n",
    "* Low density graphs: $nV >> nE$\n",
    "\n",
    "Python implementation with dictionary.\n",
    "\n",
    "\n",
    "* Operations:\n",
    "\n",
    "    1. Add nodes and edge \n",
    "    1. Remove nodes and edge\n",
    "    \n",
    "* Search\n",
    "\n",
    "    1. contains: Check if the graph contains a value\n",
    "    1. hasEdge: checks if a connection exists between two given nodes in your graph"
   ]
  },
  {
   "cell_type": "markdown",
   "metadata": {},
   "source": [
    "## Notes about DFS n BFS \n",
    "\n",
    "**For implementatio, both search is always important to track the visited nodes to prevent infinite loop**\n",
    "\n",
    "* Depth First Search (You go deep first)\n",
    "    * implement using recursion (simple) or using stack \n",
    "    * Examples of usage\n",
    "        * games like chess\n",
    "        * Find connected components\n",
    "        * How do you solve a maze? (Labirinto)\n",
    "    * Time complexity: O(nV)\n",
    "    * Space complexity recurison: worst case O(d) d is the number of nodes of the deepest branch\n",
    "        *  is linear in the depth of the search \n",
    "    \n",
    "\n",
    "\n",
    "Big picture \n",
    "```python \n",
    "\n",
    "# label node s as visited\n",
    "# node s are you node t?\n",
    "\n",
    "# no: let me ask to my neighbors start if the first neighbor\n",
    "#     call dfs recursively \n",
    "\n",
    "# yes done \n",
    "```\n",
    "\n",
    "* Breath first Search (you go wide first)\n",
    "\n",
    "    * Implement using queue (Can use much more memory) \n",
    "    * Examples of usage (find short path):\n",
    "        * find neighbor in peer to peer networks like bitorrent,\n",
    "        * GPS find near by location\n",
    "        * **find short path. shortest number of edges**\n",
    "        * **Does this undirected graph have a cycle?**\n",
    "        * Can this undirected graph be colored with two colors? !? Review later\n",
    "    * Good\n",
    "        * if the depth vary to much.\n",
    "        * you are sure the graph is deeper than wider. **Wide graphs consume to much memory**\n",
    "        \n",
    "    \n",
    "        \n",
    "\n",
    "```python \n",
    "\n",
    "# queue.push(s)\n",
    "# while queue is not empty\n",
    "#   label node s as visited\n",
    "#   node s are you node t?\n",
    "#     no: \n",
    "#        1. Add all neighbors of s\n",
    "#         2. remove s from the queue \n",
    "\n",
    "#   yes done \n",
    "```\n",
    "\n",
    "\n",
    "     from: https://stackoverflow.com/questions/3332947/when-is-it-practical-to-use-depth-first-search-dfs-vs-breadth-first-search-bf\n",
    "\n",
    "     DFS vs BFS:\n",
    "     * If you know a solution is not far from the root of the tree, a breadth\n",
    "       first search (BFS) might be better.\n",
    "     * If the tree is very deep and solutions are rare, depth first search\n",
    "       (DFS) might take an extremely long time, but BFS could be faster.\n",
    "     * If the tree is very wide, a BFS might need too much memory, so it\n",
    "       might be completely impractical.\n",
    "     * If solutions are frequent but located deep in the tree, BFS could be\n",
    "       impractical.\n",
    "     * If the search tree is very deep you will need to restrict the search\n",
    "       depth for depth first search (DFS), anyway (for example with iterative\n",
    "       deepening).\n",
    "\n",
    "\n",
    "     * DFS examples:\n",
    "       * games: chess,\n",
    "     * BFS examples\n",
    "       * short path: find neighbor in peer to peer networks like bitorrent,\n",
    "         GPS find near by location, social to find people in the same\n",
    "         distance form the node\n",
    "\n",
    "\n",
    "     * BFS is good for:\n",
    "       * if the depth vary to much.\n",
    "       * you are sure the graph is deeper than wider\n",
    "     * DFS\n",
    "       * can be more efficient in recursion implementation S(#h) where h is\n",
    "         deepest path\n",
    "       * preferable when #depth << #child\n",
    "\n",
    "\n"
   ]
  },
  {
   "cell_type": "markdown",
   "metadata": {},
   "source": [
    "## Implementing Graph. Using dictionary"
   ]
  },
  {
   "cell_type": "code",
   "execution_count": 1,
   "metadata": {},
   "outputs": [],
   "source": [
    "from typing import List\n",
    "\n",
    "import IPython\n",
    "from IPython.core.interactiveshell import InteractiveShell\n",
    "InteractiveShell.ast_node_interactivity = \"all\""
   ]
  },
  {
   "cell_type": "code",
   "execution_count": 23,
   "metadata": {},
   "outputs": [],
   "source": [
    "from collections import deque\n",
    "\n",
    "class Graph():\n",
    "    \n",
    "    \n",
    "    def __init__(self, graph_dict = None):\n",
    "        \n",
    "        if graph_dict == None:\n",
    "                \n",
    "            graph_dict = {}\n",
    "            \n",
    "        self._graph_dict = graph_dict    \n",
    "        \n",
    "    def add_node(self, node):\n",
    "        \n",
    "        self._graph_dict[node] = set()\n",
    "    \n",
    "    def add_edge(self, edge: tuple ):\n",
    "        \n",
    "        node1 = edge[0]\n",
    "        node2 = edge[1]\n",
    "            \n",
    "        if node1 in self._graph_dict.keys() and node2 in self._graph_dict.keys():\n",
    "            \n",
    "            self._graph_dict[node1].add(node2)\n",
    "            self._graph_dict[node2].add(node1)\n",
    "\n",
    "    def add_edges(self, edges):\n",
    "        \n",
    "        for nodes in edges:\n",
    "            \n",
    "            self.add_edge(nodes)\n",
    "        \n",
    "    def get_all_edges(self, v = None):\n",
    "        \n",
    "        if v is not None:\n",
    "            \n",
    "            edges = [(v, child) for child in self._graph_dict[v] ]\n",
    "            \n",
    "        return edges\n",
    "    \n",
    "    def bfs(self, start_node):\n",
    "         \n",
    "        visited = [False for k in self._graph_dict.keys()]\n",
    "        n_nodes = len(visited)\n",
    "        \n",
    "        queue = deque([start_node])\n",
    "        processed = []\n",
    "        while queue:\n",
    "            \n",
    "            node_s = queue.popleft() \n",
    "            visited[node_s] = True\n",
    "            \n",
    "            #print (f\"node: {node_s}\", end = \" \")\n",
    "            processed.append(node_s)\n",
    "            \n",
    "            for node_t in self._graph_dict[node_s]:\n",
    "                \n",
    "                if visited[node_t] == False:\n",
    "                    \n",
    "                    queue.append(node_t) \n",
    "            \n",
    "        return processed\n",
    "\n",
    "    def dfs(self, start_node):\n",
    "        \n",
    "        visited = [False for k in self._graph_dict.keys()]\n",
    "        \n",
    "        stack = ([start_node])\n",
    "        processed = []\n",
    "        while stack:\n",
    "        \n",
    "            node_s = stack.pop()\n",
    "            visited[node_s] = True\n",
    "            \n",
    "            processed.append(node_s)\n",
    "        \n",
    "            for node_t in self._graph_dict[node_s]:\n",
    "                \n",
    "                if visited[node_t] == False:\n",
    "                    \n",
    "                     stack.append(node_t)\n",
    "            \n",
    "        return processed\n",
    "    \n",
    "    def _dfs(self, node_s, visited):\n",
    "        \n",
    "        visited[node_s] = True\n",
    "                    \n",
    "        for s in self._graph_dict[node_s]:\n",
    "                   \n",
    "            #print(f\"node s: {s}\")\n",
    "            if visited[s] == False:\n",
    "                    \n",
    "                self._dfs(s, visited)\n",
    "\n",
    "    def count_not_reach(self, node):\n",
    "    \n",
    "        visited = [False for k in self._graph_dict.keys()]\n",
    "                        \n",
    "        self._dfs(node, visited)\n",
    "    \n",
    "        counter = 0\n",
    "        for v in visited:\n",
    "            \n",
    "            if v == False:\n",
    "                    \n",
    "                counter += 1\n",
    "                \n",
    "        #print(f\"visited: {visited}\")\n",
    "        return counter\n",
    "    \n",
    "    def _dfs_connected_componets(self, v, cc, visited):\n",
    "        \n",
    "        visited[v] = True\n",
    "        \n",
    "        cc.append(v)\n",
    "                          \n",
    "        for s in self._graph_dict[v]:\n",
    "                   \n",
    "            #print(f\"node s: {s}\")\n",
    "            if visited[s] == False:\n",
    "                    \n",
    "                self._dfs_connected_componets(s, cc, visited)\n",
    "\n",
    "    \n",
    "    def get_connected_componet(self):\n",
    "        \n",
    "        visited = [False for k in self._graph_dict.keys()]\n",
    "        connected_component = []\n",
    "        \n",
    "        for v in range(len(visited)):\n",
    "            \n",
    "            if visited[v] == False:\n",
    "                    \n",
    "                cc = []\n",
    "                self._dfs_connected_componets( v, cc, visited)\n",
    "                #print(cc)\n",
    "                connected_component.append(cc)\n",
    "\n",
    "        return connected_component\n",
    "    \n",
    "    def find_path(self, v):\n",
    "        \n",
    "        pass"
   ]
  },
  {
   "cell_type": "code",
   "execution_count": 24,
   "metadata": {},
   "outputs": [
    {
     "data": {
      "text/plain": [
       "'2.5'"
      ]
     },
     "execution_count": 24,
     "metadata": {},
     "output_type": "execute_result"
    }
   ],
   "source": [
    "import networkx as nx\n",
    "\n",
    "nx.__version__"
   ]
  },
  {
   "cell_type": "code",
   "execution_count": 25,
   "metadata": {},
   "outputs": [
    {
     "name": "stdout",
     "output_type": "stream",
     "text": [
      "{0: {1, 2}, 1: {0, 2}, 2: {0, 1}, 3: {4}, 4: {3, 5}, 5: {4}, 6: {7}, 7: {6}}\n",
      "[(2, 0), (2, 1)]\n",
      " number of not connected: 5\n"
     ]
    },
    {
     "data": {
      "image/png": "[encoded data removed]",
      "text/plain": [
       "<Figure size 432x288 with 1 Axes>"
      ]
     },
     "metadata": {},
     "output_type": "display_data"
    }
   ],
   "source": [
    "g = Graph()\n",
    "\n",
    "\n",
    "for k in range(8):\n",
    "    \n",
    "    g.add_node(k)\n",
    "    \n",
    "edges = [ (0, 1), (0, 2), (1, 2), (3, 4), (4, 5), (6, 7) ]\n",
    "\n",
    "# Using this library to visualize the Graph\n",
    "G = nx.Graph()\n",
    "G.add_edges_from(edges)\n",
    "nx.draw_networkx(G)\n",
    "\n",
    "g.add_edges(edges)\n",
    "\n",
    "# debug\n",
    "print(g._graph_dict)\n",
    "\n",
    "print(g.get_all_edges(2))\n",
    "  \n",
    "print(f\" number of not connected: {g.count_not_reach(2)}\") \n"
   ]
  },
  {
   "cell_type": "code",
   "execution_count": 26,
   "metadata": {},
   "outputs": [
    {
     "name": "stdout",
     "output_type": "stream",
     "text": [
      "[0, 1, 2]\n",
      "[3, 4, 5]\n",
      "[6, 7]\n"
     ]
    },
    {
     "data": {
      "image/png": "[encoded data removed]",
      "text/plain": [
       "<Figure size 432x288 with 1 Axes>"
      ]
     },
     "metadata": {},
     "output_type": "display_data"
    }
   ],
   "source": [
    "connected_componet = g.get_connected_componet()\n",
    "\n",
    "for cc in connected_componet:\n",
    "    \n",
    "    print(f\"{cc}\")\n",
    "\n",
    "nx.draw_networkx(G)"
   ]
  },
  {
   "cell_type": "code",
   "execution_count": 27,
   "metadata": {},
   "outputs": [
    {
     "name": "stdout",
     "output_type": "stream",
     "text": [
      "{0: {1, 3, 4}, 1: {0, 2}, 2: {1}, 3: {0}, 4: {0}}\n",
      "[(0, 1), (0, 3), (0, 4)]\n",
      "BFS search\n"
     ]
    },
    {
     "data": {
      "text/plain": [
       "[0, 1, 3, 4, 2]"
      ]
     },
     "execution_count": 27,
     "metadata": {},
     "output_type": "execute_result"
    },
    {
     "name": "stdout",
     "output_type": "stream",
     "text": [
      "DFS search\n"
     ]
    },
    {
     "data": {
      "text/plain": [
       "[0, 4, 3, 1, 2]"
      ]
     },
     "execution_count": 27,
     "metadata": {},
     "output_type": "execute_result"
    },
    {
     "data": {
      "image/png": "[encoded data removed]",
      "text/plain": [
       "<Figure size 432x288 with 1 Axes>"
      ]
     },
     "metadata": {},
     "output_type": "display_data"
    }
   ],
   "source": [
    "## testing bfs\n",
    "\n",
    "g = Graph()\n",
    "\n",
    "for k in range(5):\n",
    "    \n",
    "    g.add_node(k)\n",
    "    \n",
    "edges = [ (0, 1), (1, 2), (0, 3), (0, 4) ]\n",
    "\n",
    "G = nx.Graph()\n",
    "G.add_edges_from(edges)\n",
    "nx.draw_networkx(G)\n",
    "\n",
    "g.add_edges(edges)\n",
    "\n",
    "# debug\n",
    "print(g._graph_dict)\n",
    "\n",
    "print(g.get_all_edges(0))\n",
    "\n",
    "print(\"BFS search\")\n",
    "queue = g.bfs(0) # Cool to understand BSF\n",
    "queue\n",
    "\n",
    "print(\"DFS search\")\n",
    "queue = g.dfs(0) # Cool to understand DSF\n",
    "queue"
   ]
  },
  {
   "cell_type": "code",
   "execution_count": null,
   "metadata": {},
   "outputs": [],
   "source": []
  }
 ],
 "metadata": {
  "kernelspec": {
   "display_name": "Python 3",
   "language": "python",
   "name": "python3"
  },
  "language_info": {
   "codemirror_mode": {
    "name": "ipython",
    "version": 3
   },
   "file_extension": ".py",
   "mimetype": "text/x-python",
   "name": "python",
   "nbconvert_exporter": "python",
   "pygments_lexer": "ipython3",
   "version": "3.8.3"
  },
  "toc": {
   "base_numbering": 1,
   "nav_menu": {},
   "number_sections": true,
   "sideBar": true,
   "skip_h1_title": true,
   "title_cell": "Table of Contents",
   "title_sidebar": "Contents",
   "toc_cell": false,
   "toc_position": {},
   "toc_section_display": true,
   "toc_window_display": true
  },
  "varInspector": {
   "cols": {
    "lenName": 16,
    "lenType": 16,
    "lenVar": 40
   },
   "kernels_config": {
    "python": {
     "delete_cmd_postfix": "",
     "delete_cmd_prefix": "del ",
     "library": "var_list.py",
     "varRefreshCmd": "print(var_dic_list())"
    },
    "r": {
     "delete_cmd_postfix": ") ",
     "delete_cmd_prefix": "rm(",
     "library": "var_list.r",
     "varRefreshCmd": "cat(var_dic_list()) "
    }
   },
   "types_to_exclude": [
    "module",
    "function",
    "builtin_function_or_method",
    "instance",
    "_Feature"
   ],
   "window_display": false
  }
 },
 "nbformat": 4,
 "nbformat_minor": 4
}
