{
 "cells": [
  {
   "cell_type": "markdown",
   "metadata": {},
   "source": [
    "# Sorting Algorithms\n",
    "\n",
    "refs:\n",
    "\n",
    "Some discussion:\n",
    "\n",
    "\n"
   ]
  },
  {
   "cell_type": "code",
   "execution_count": 1,
   "metadata": {},
   "outputs": [],
   "source": [
    "from typing import List, Set, Dict, Tuple, Optional, Union\n",
    "\n",
    "import IPython\n",
    "from IPython.core.interactiveshell import InteractiveShell\n",
    "InteractiveShell.ast_node_interactivity = \"all\""
   ]
  },
  {
   "cell_type": "markdown",
   "metadata": {},
   "source": [
    "## Summary "
   ]
  },
  {
   "cell_type": "markdown",
   "metadata": {},
   "source": [
    "## Buble sort\n"
   ]
  },
  {
   "cell_type": "markdown",
   "metadata": {},
   "source": [
    "## Quicksort\n",
    "\n",
    "refs:\n",
    "* https://leetcode.com/explore/learn/card/recursion-ii/507/beyond-recursion/2898/\n",
    "8 https://www.baeldung.com/cs/quicksort-time-complexity-worst-case"
   ]
  },
  {
   "cell_type": "code",
   "execution_count": 8,
   "metadata": {},
   "outputs": [
    {
     "data": {
      "text/plain": [
       "[1, 2, 3, 4]"
      ]
     },
     "execution_count": 8,
     "metadata": {},
     "output_type": "execute_result"
    },
    {
     "data": {
      "text/plain": [
       "[1, 2, 3, 7]"
      ]
     },
     "execution_count": 8,
     "metadata": {},
     "output_type": "execute_result"
    }
   ],
   "source": [
    "def move_pivot_to_position(arr: list , begin_partition: int, end_partition: int) -> int:\n",
    "    \n",
    "    # move pivot to postion \n",
    "    # move all elemenst greather than pivot to the right partition\n",
    "    # move all elemenst smaller than pivot to the  partition\n",
    "    \n",
    "    pivot = arr[end_partition]\n",
    "    pivot_pos = begin_partition\n",
    "    \n",
    "    # traverse the partition\n",
    "    for k in range(begin_partition,end_partition): #begin_partition, ..., end_partition -1\n",
    "        \n",
    "        if arr[k] < pivot:\n",
    "\n",
    "            # swap(pivot_pos, k)\n",
    "            arr[pivot_pos], arr[k] = arr[k], arr[pivot_pos],\n",
    "            pivot_pos += 1\n",
    "                \n",
    "    # put the pivot in the position. swap(pivot_pos,end_partition)\n",
    "    arr[pivot_pos], arr[end_partition] = arr[end_partition], arr[pivot_pos]\n",
    "    \n",
    "    return pivot_pos\n",
    "    \n",
    "def quick_sort_rec(arr:list, begin_partition: int, end_partition: int):\n",
    "    \n",
    "    if begin_partition < end_partition:\n",
    "        \n",
    "        # find pivot_postion and sort related to pivot\n",
    "        pivot_pos = move_pivot_to_position(arr, begin_partition, end_partition)\n",
    "    \n",
    "        # sort left partition\n",
    "        quick_sort_rec(arr,begin_partition,pivot_pos -1)\n",
    "    \n",
    "        # sort right\n",
    "        quick_sort_rec(arr,pivot_pos + 1, end_partition)\n",
    "    \n",
    "def quick_sort(arr:list):\n",
    "    \n",
    "    n = len(arr)\n",
    "    \n",
    "    begin_partition = 0\n",
    "    end_partition = n-1\n",
    "    \n",
    "    quick_sort_rec(arr, begin_partition, end_partition)\n",
    "\n",
    "# worst case scenario\n",
    "arr = [4,3,2,1]\n",
    "quick_sort(arr)\n",
    "arr\n",
    "\n",
    "arr = [1,3,7,2]\n",
    "quick_sort(arr)\n",
    "arr"
   ]
  },
  {
   "cell_type": "markdown",
   "metadata": {},
   "source": [
    "* Time complexity:\n",
    "    * Best case $O(n log n)$: The pivot is the median. The arr is split in half. There is $log N$ split (recursive calls) and for each call there is $n$ comparison\n",
    "\n",
    "    * Worst case $O(n^2)$: The pivot always divide the left partition as size $1$ and the right with the size $n-1$. There is $n$ split (recursive calls) and again there is $n$ comparison per call. In this situation the pivot is always pick the maximum or the minimum.\n",
    "    \n",
    "    * Avg: $O(n log n)$ \n",
    "    \n",
    "* Space complexity: O(1) sort in-place\n",
    "\n",
    "\n",
    "We can avoid the worst case scenario by choosing the pivot to the median of 3 candidates, usually:\n",
    "* $pivot = median(arr[begin], arr[(begin + end)/2], arr[end])$"
   ]
  },
  {
   "cell_type": "markdown",
   "metadata": {},
   "source": [
    "## MergeSort \n",
    "\n",
    "ref:\n",
    "* https://leetcode.com/explore/learn/card/recursion-ii/470/divide-and-conquer/2868/\n",
    "\n",
    "Complexity:\n",
    "* Time: O(n log n)\n",
    "* Space: O(n)\n",
    "\n",
    "Merge sort is divie-and-conquer algorithm. In this notebook we will imlement the top-down approach\n",
    "\n",
    "1. Divide the arr is small sublist (**Divide**)\n",
    "1. Sort the sublists  (**Conquer**)\n",
    "1. Merge the ordered list (**Combine**)\n",
    "\n",
    "The algorithm can be visualiza with the image below:\n",
    "\n",
    "<img src=\"images/topdown_mergesort.png\" width=\"600\" height=\"400\">\n",
    "\n",
    "The algorithm explores the idea that an empty list or a list of one element is already sorted and the fact we can merge sorted list in linear complexity $O(n)$\n"
   ]
  },
  {
   "cell_type": "code",
   "execution_count": 17,
   "metadata": {},
   "outputs": [
    {
     "data": {
      "text/plain": [
       "[2, 4, 5, 7]"
      ]
     },
     "execution_count": 17,
     "metadata": {},
     "output_type": "execute_result"
    },
    {
     "data": {
      "text/plain": [
       "[1, 2, 3]"
      ]
     },
     "execution_count": 17,
     "metadata": {},
     "output_type": "execute_result"
    },
    {
     "data": {
      "text/plain": [
       "[]"
      ]
     },
     "execution_count": 17,
     "metadata": {},
     "output_type": "execute_result"
    }
   ],
   "source": [
    "def _merge(left_arr,right_arr):\n",
    "    \n",
    "    left = right = 0\n",
    "    \n",
    "    sorted_arr = []\n",
    "    while left < len(left_arr) and right < len(right_arr):\n",
    "    \n",
    "        if left_arr[left] < right_arr[right]:\n",
    "        \n",
    "            sorted_arr.append(left_arr[left])\n",
    "            left += 1\n",
    "            \n",
    "        else:\n",
    "            \n",
    "            sorted_arr.append(right_arr[right] )\n",
    "            right += 1\n",
    "            \n",
    "    # append the rest of the list\n",
    "    sorted_arr.extend(left_arr[left:])  # left_arr[1,2,3], left = 3 left_arr[left:] = []\n",
    "    sorted_arr.extend(right_arr[right:])\n",
    "        \n",
    "    return sorted_arr\n",
    "\n",
    "def merge_sort(arr: list):\n",
    "    \n",
    "    n = len(arr)\n",
    "    \n",
    "    # base case\n",
    "    if n == 1 or n == 0:\n",
    "        return arr\n",
    "    \n",
    "    pivot = n // 2\n",
    "    \n",
    "    left_arr = merge_sort(arr[0:pivot])\n",
    "    right_arr =  merge_sort(arr[pivot:])\n",
    "    \n",
    "    return _merge(left_arr, right_arr)\n",
    "\n",
    "\n",
    "merge_sort([4,2,7,5])\n",
    "merge_sort([1,2,3])\n",
    "merge_sort([])"
   ]
  },
  {
   "cell_type": "code",
   "execution_count": 4,
   "metadata": {},
   "outputs": [
    {
     "data": {
      "text/plain": [
       "[]"
      ]
     },
     "execution_count": 4,
     "metadata": {},
     "output_type": "execute_result"
    }
   ],
   "source": [
    "# Note regards of the extend line when left is the ize of the left_arr\n",
    "left_arr = [1,2,3]\n",
    "left = 3\n",
    "\n",
    "left_arr[left:]"
   ]
  },
  {
   "cell_type": "markdown",
   "metadata": {},
   "source": [
    "Let forst draw the recursion tree for small example\n",
    "\n",
    "\n",
    "```text\n",
    "\n",
    "          f([3,1,5,4])\n",
    "        /              \\\n",
    "    f([3,1])            f([5,4])          <= each level has n elements \n",
    "   /       \\            /      \\\n",
    " f([3])     f([1])    f([5])    f([4])    <= also has n elements \n",
    "\n",
    "For merge each level it will takes O(n) to merge all elements in a level. But there is log_2 N levels in the tree\n",
    "```\n",
    "\n",
    "There are to steps\n",
    "\n",
    "* Divide steps\n",
    "\n",
    "    * Time complexity: O(N) since we split n-1 times the array\n",
    "    * Space; O(1)\n",
    "    \n",
    "* Merge steps:\n",
    "\n",
    "    * Time: O(N log n). Each level takes O(N)  per leveland there are $log_2 N$ levels\n",
    "    * Space: O(N) since the size of all sorted_arr should be equal to N in all levels\n",
    "\n",
    "\n",
    "For the over all algorith:\n",
    "* Time: O(N log n). Each level takes O(N)  per leveland there are $log_2 N$ levels\n",
    "* Space: O(N) since the size of all sorted_arr should be equal to N in all levels"
   ]
  },
  {
   "cell_type": "code",
   "execution_count": null,
   "metadata": {},
   "outputs": [],
   "source": []
  }
 ],
 "metadata": {
  "kernelspec": {
   "display_name": "Python 3",
   "language": "python",
   "name": "python3"
  },
  "language_info": {
   "codemirror_mode": {
    "name": "ipython",
    "version": 3
   },
   "file_extension": ".py",
   "mimetype": "text/x-python",
   "name": "python",
   "nbconvert_exporter": "python",
   "pygments_lexer": "ipython3",
   "version": "3.8.3"
  },
  "toc": {
   "base_numbering": 1,
   "nav_menu": {},
   "number_sections": true,
   "sideBar": true,
   "skip_h1_title": false,
   "title_cell": "Table of Contents",
   "title_sidebar": "Contents",
   "toc_cell": false,
   "toc_position": {},
   "toc_section_display": true,
   "toc_window_display": true
  },
  "varInspector": {
   "cols": {
    "lenName": 16,
    "lenType": 16,
    "lenVar": 40
   },
   "kernels_config": {
    "python": {
     "delete_cmd_postfix": "",
     "delete_cmd_prefix": "del ",
     "library": "var_list.py",
     "varRefreshCmd": "print(var_dic_list())"
    },
    "r": {
     "delete_cmd_postfix": ") ",
     "delete_cmd_prefix": "rm(",
     "library": "var_list.r",
     "varRefreshCmd": "cat(var_dic_list()) "
    }
   },
   "types_to_exclude": [
    "module",
    "function",
    "builtin_function_or_method",
    "instance",
    "_Feature"
   ],
   "window_display": false
  }
 },
 "nbformat": 4,
 "nbformat_minor": 2
}
