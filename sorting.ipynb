{
 "cells": [
  {
   "cell_type": "markdown",
   "metadata": {},
   "source": [
    "# Sorting Algorithms\n",
    "\n",
    "refs:\n",
    "\n",
    "Some discussion:\n",
    "\n",
    "\n"
   ]
  },
  {
   "cell_type": "code",
   "execution_count": 1,
   "metadata": {},
   "outputs": [],
   "source": [
    "from typing import List, Set, Dict, Tuple, Optional, Union\n",
    "\n",
    "import math\n",
    "\n",
    "import IPython\n",
    "from IPython.core.interactiveshell import InteractiveShell\n",
    "InteractiveShell.ast_node_interactivity = \"all\""
   ]
  },
  {
   "cell_type": "markdown",
   "metadata": {},
   "source": [
    "## Summary "
   ]
  },
  {
   "cell_type": "markdown",
   "metadata": {
    "heading_collapsed": true
   },
   "source": [
    "## Buble sort\n"
   ]
  },
  {
   "cell_type": "markdown",
   "metadata": {},
   "source": [
    "## Quicksort\n",
    "\n",
    "refs:\n",
    "* https://leetcode.com/explore/learn/card/recursion-ii/507/beyond-recursion/2898/\n",
    "* https://www.baeldung.com/cs/quicksort-time-complexity-worst-case"
   ]
  },
  {
   "cell_type": "code",
   "execution_count": 15,
   "metadata": {},
   "outputs": [
    {
     "name": "stdout",
     "output_type": "stream",
     "text": [
      "in: [5, 4, 3, 2, 1]\n",
      "#comparisons: 10; n log n: 8.0; n^2: 25\n"
     ]
    },
    {
     "data": {
      "text/plain": [
       "[1, 2, 3, 4, 5]"
      ]
     },
     "execution_count": 15,
     "metadata": {},
     "output_type": "execute_result"
    },
    {
     "name": "stdout",
     "output_type": "stream",
     "text": [
      "in: [1, 2, 3, 4, 5]\n",
      "#comparisons: 10; n log n: 8.0; n^2: 25\n"
     ]
    },
    {
     "data": {
      "text/plain": [
       "[1, 2, 3, 4, 5]"
      ]
     },
     "execution_count": 15,
     "metadata": {},
     "output_type": "execute_result"
    },
    {
     "name": "stdout",
     "output_type": "stream",
     "text": [
      "in: [1, 5, 4, 3, 2]\n",
      "#comparisons: 7; n log n: 8.0; n^2: 25\n"
     ]
    },
    {
     "data": {
      "text/plain": [
       "[1, 2, 3, 4, 5]"
      ]
     },
     "execution_count": 15,
     "metadata": {},
     "output_type": "execute_result"
    },
    {
     "name": "stdout",
     "output_type": "stream",
     "text": [
      "in: [1, 4, 2, 5, 3]\n",
      "#comparisons: 6; n log n: 8.0; n^2: 25\n"
     ]
    },
    {
     "data": {
      "text/plain": [
       "[1, 2, 3, 4, 5]"
      ]
     },
     "execution_count": 15,
     "metadata": {},
     "output_type": "execute_result"
    }
   ],
   "source": [
    "comparison_counter = 0\n",
    "def move_pivot_to_position(arr: list , begin_partition: int, end_partition: int) -> int:\n",
    "    \n",
    "    global comparison_counter\n",
    "    # move pivot to postion \n",
    "    # move all elemenst greather than pivot to the right partition\n",
    "    # move or keep all elemenst smaller than pivot to the left partition\n",
    "    \n",
    "    pivot = arr[end_partition]\n",
    "    pivot_pos = begin_partition\n",
    "    \n",
    "    # traverse the partition\n",
    "    for k in range(begin_partition,end_partition): #begin_partition, ..., end_partition -1 (pivot = end_partition)\n",
    "        \n",
    "        comparison_counter += 1\n",
    "        if arr[k] < pivot:\n",
    "\n",
    "            # swap(pivot_pos, k)\n",
    "            # If arr[k] < pivot then we should move to left side of the pivot candidate to keep the arr ordered\n",
    "            # by the pivot\n",
    "            arr[pivot_pos], arr[k] = arr[k], arr[pivot_pos],\n",
    "            pivot_pos += 1\n",
    "                \n",
    "    # put the pivot in the position. swap(pivot_pos,end_partition)\n",
    "    arr[pivot_pos], arr[end_partition] = arr[end_partition], arr[pivot_pos]\n",
    "    \n",
    "    return pivot_pos\n",
    "    \n",
    "def quick_sort_rec(arr:list, begin_partition: int, end_partition: int):\n",
    "    \n",
    "    # base case to end the recursion\n",
    "    if begin_partition < end_partition:\n",
    "        \n",
    "        # find pivot_postion and sort related to pivot\n",
    "        pivot_pos = move_pivot_to_position(arr, begin_partition, end_partition)\n",
    "    \n",
    "        # sort left partition\n",
    "        # Need to exclude the pivot. It is already in the poistion\n",
    "        quick_sort_rec(arr,begin_partition,pivot_pos -1)\n",
    "    \n",
    "        # sort right\n",
    "        # Need to exclude the pivot. It is already in the poistion\n",
    "        quick_sort_rec(arr,pivot_pos + 1, end_partition)\n",
    "    \n",
    "def quick_sort(arr:list):\n",
    "    \n",
    "    global comparison_counter\n",
    "    comparison_counter = 0\n",
    "    \n",
    "    n = len(arr)\n",
    "    \n",
    "    begin_partition = 0\n",
    "    end_partition = n-1\n",
    "    \n",
    "    quick_sort_rec(arr, begin_partition, end_partition)\n",
    "\n",
    "arr = [5,4,3,2,1]\n",
    "n = len(arr)\n",
    "print(f\"in: {arr}\")\n",
    "quick_sort(arr)\n",
    "print(f\"#comparisons: {comparison_counter}; n log n: {n * math.log(n):.1f}; n^2: {n*n}\")\n",
    "arr\n",
    "\n",
    "arr = [1,2,3,4,5]\n",
    "print(f\"in: {arr}\")\n",
    "quick_sort(arr)\n",
    "print(f\"#comparisons: {comparison_counter}; n log n: {n * math.log(n):.1f}; n^2: {n*n}\")\n",
    "arr\n",
    "\n",
    "arr = [1,5,4,3,2]\n",
    "print(f\"in: {arr}\")\n",
    "quick_sort(arr)\n",
    "print(f\"#comparisons: {comparison_counter}; n log n: {n * math.log(n):.1f}; n^2: {n*n}\")\n",
    "arr\n",
    "\n",
    "arr = [1,4,2,5,3]\n",
    "print(f\"in: {arr}\")\n",
    "quick_sort(arr)\n",
    "print(f\"#comparisons: {comparison_counter}; n log n: {n * math.log(n):.1f}; n^2: {n*n}\")\n",
    "arr"
   ]
  },
  {
   "cell_type": "markdown",
   "metadata": {},
   "source": [
    "* Time complexity:\n",
    "    * Best case $O(n log n)$: The pivot is the median. The arr is split in half. There is $log N$ split (recursive calls) and for each call there is $n$ comparison\n",
    "\n",
    "    * Worst case $O(n^2)$: The pivot always divide the left partition as size $1$ and the right with the size $n-1$. There is $n$ split (recursive calls) and again there is $n$ comparison per call. In this situation the pivot is always pick the maximum or the minimum.\n",
    "    \n",
    "    * Avg: $O(n log n)$ \n",
    "    \n",
    "* Space complexity: O(1) sort in-place\n",
    "\n",
    "\n",
    "We can avoid the worst case scenario by choosing the pivot to the median of 3 candidates, usually:\n",
    "* $pivot = median(arr[begin], arr[(begin + end)/2], arr[end])$"
   ]
  },
  {
   "cell_type": "markdown",
   "metadata": {},
   "source": [
    "## MergeSort \n",
    "\n",
    "ref:\n",
    "* https://leetcode.com/explore/learn/card/recursion-ii/470/divide-and-conquer/2868/\n",
    "\n",
    "Complexity:\n",
    "* Time: O(n log n)\n",
    "* Space: O(n)\n",
    "\n",
    "Merge sort is divie-and-conquer algorithm. In this notebook we will imlement the top-down approach\n",
    "\n",
    "1. Divide the arr is small sublist (**Divide**)\n",
    "1. Sort the sublists  (**Conquer**)\n",
    "1. Merge the ordered list (**Combine**)\n",
    "\n",
    "The algorithm can be visualiza with the image below:\n",
    "\n",
    "<img src=\"images/topdown_mergesort.png\" width=\"600\" height=\"400\">\n",
    "\n",
    "The algorithm explores the idea that an empty list or a list of one element is already sorted and the fact we can merge sorted list in linear complexity $O(n)$\n"
   ]
  },
  {
   "cell_type": "code",
   "execution_count": 24,
   "metadata": {},
   "outputs": [
    {
     "name": "stdout",
     "output_type": "stream",
     "text": [
      "[4, 5]\n",
      "[1, 2]\n",
      "[1, 2, 3]\n",
      "[1, 2, 3, 4, 5]\n"
     ]
    },
    {
     "data": {
      "text/plain": [
       "[1, 2, 3, 4, 5]"
      ]
     },
     "execution_count": 24,
     "metadata": {},
     "output_type": "execute_result"
    },
    {
     "name": "stdout",
     "output_type": "stream",
     "text": [
      "\n",
      "[2, 4]\n",
      "[5, 7]\n",
      "[2, 4, 5, 7]\n"
     ]
    },
    {
     "data": {
      "text/plain": [
       "[2, 4, 5, 7]"
      ]
     },
     "execution_count": 24,
     "metadata": {},
     "output_type": "execute_result"
    },
    {
     "name": "stdout",
     "output_type": "stream",
     "text": [
      "\n",
      "[2, 3]\n",
      "[1, 2, 3]\n"
     ]
    },
    {
     "data": {
      "text/plain": [
       "[1, 2, 3]"
      ]
     },
     "execution_count": 24,
     "metadata": {},
     "output_type": "execute_result"
    },
    {
     "name": "stdout",
     "output_type": "stream",
     "text": [
      "\n"
     ]
    },
    {
     "data": {
      "text/plain": [
       "[]"
      ]
     },
     "execution_count": 24,
     "metadata": {},
     "output_type": "execute_result"
    }
   ],
   "source": [
    "def _merge(left_arr,right_arr):\n",
    "    \n",
    "    left = right = 0\n",
    "    \n",
    "    sorted_arr = []\n",
    "    while left < len(left_arr) and right < len(right_arr):\n",
    "    \n",
    "        if left_arr[left] < right_arr[right]:\n",
    "        \n",
    "            sorted_arr.append(left_arr[left])\n",
    "            left += 1\n",
    "            \n",
    "        else:\n",
    "            \n",
    "            sorted_arr.append(right_arr[right] )\n",
    "            right += 1\n",
    "            \n",
    "    # Append the remaining elements. because left and right array might not have the same size\n",
    "    # or we finish one array first than other dependent of the data\n",
    "    sorted_arr.extend(left_arr[left:])  # left_arr[1,2,3], left = 3 left_arr[left:] = []\n",
    "    sorted_arr.extend(right_arr[right:])\n",
    "        \n",
    "    print(f\"{sorted_arr}\")\n",
    "    return sorted_arr\n",
    "\n",
    "def merge_sort(arr: list):\n",
    "    \n",
    "    #print(arr)\n",
    "    n = len(arr)\n",
    "    \n",
    "    # base case\n",
    "    if n == 1 or n == 0:\n",
    "        return arr\n",
    "    \n",
    "    pivot = n // 2\n",
    "    \n",
    "    # Divide step\n",
    "    left_arr = merge_sort(arr[0:pivot])\n",
    "    right_arr = merge_sort(arr[pivot:])\n",
    "    \n",
    "    # merge step\n",
    "    return _merge(left_arr, right_arr)\n",
    "\n",
    "\n",
    "merge_sort([5,4,3,2,1])\n",
    "\n",
    "print()\n",
    "merge_sort([4,2,7,5])\n",
    "\n",
    "print()\n",
    "merge_sort([1,2,3])\n",
    "\n",
    "print()\n",
    "merge_sort([])"
   ]
  },
  {
   "cell_type": "code",
   "execution_count": 4,
   "metadata": {},
   "outputs": [
    {
     "data": {
      "text/plain": [
       "[]"
      ]
     },
     "execution_count": 4,
     "metadata": {},
     "output_type": "execute_result"
    }
   ],
   "source": [
    "# Note regards of the extend line when left is the ize of the left_arr\n",
    "left_arr = [1,2,3]\n",
    "left = 3\n",
    "\n",
    "left_arr[left:]"
   ]
  },
  {
   "cell_type": "markdown",
   "metadata": {},
   "source": [
    "Let forst draw the recursion tree for small example\n",
    "\n",
    "\n",
    "```text\n",
    "\n",
    "          f([3,1,5,4])\n",
    "        /              \\\n",
    "    f([3,1])            f([5,4])          <= each level has n elements \n",
    "   /       \\            /      \\\n",
    " f([3])     f([1])    f([5])    f([4])    <= also has n elements \n",
    "\n",
    "For merge each level it will takes O(n) to merge all elements in a level. But there is log_2 N levels in the tree\n",
    "```\n",
    "\n",
    "There are to steps\n",
    "\n",
    "* Divide steps\n",
    "\n",
    "    * Time complexity: O(N) since we split n-1 times the array\n",
    "    * Space; O(1)\n",
    "    \n",
    "* Merge steps:\n",
    "\n",
    "    * Time: O(N log n). Each level takes O(N)  per leveland there are $log_2 N$ levels\n",
    "    * Space: O(N) since the size of all sorted_arr should be equal to N in all levels\n",
    "\n",
    "\n",
    "For the over all algorith:\n",
    "* Time: O(N log n). Each level takes O(N)  per leveland there are $log_2 N$ levels\n",
    "* Space: O(N) since the size of all sorted_arr should be equal to N in all levels"
   ]
  },
  {
   "cell_type": "markdown",
   "metadata": {},
   "source": [
    "## Selection sort\n",
    "\n",
    "* https://www.youtube.com/watch?v=xWBP4lzkoyM\n"
   ]
  },
  {
   "cell_type": "markdown",
   "metadata": {},
   "source": [
    "This algorithm is useful for situation where you only are interested in the top k elements, so you do not need to sort the entire array. When you sort the k-th element, you are done.\n",
    "\n",
    "* Time: O(nk)\n",
    "\n",
    "    * if $k = n$ then: O(n^2) and it is better to use **quicksort**\n",
    "\n",
    "* Space: O(1)\n",
    "\n",
    "\n",
    "Works the idea to have 2 split the array in 2 pieces: sorted and a unsorted pice. The algorithm guarantees that in the spep $k$, the $k$ first positions are sorted in the array\n",
    "    \n",
    "1. The initial state: sorted part is empty and the unsorted part i the input array.\n",
    "1. pick the first element as minimum."
   ]
  },
  {
   "cell_type": "markdown",
   "metadata": {},
   "source": [
    "<img src=\"images/selection_sort_1.png\" width=\"500\" height=\"400\">"
   ]
  },
  {
   "cell_type": "markdown",
   "metadata": {},
   "source": [
    "Find the minimum in the array to fill the position $k=0$ and swap the element in the first position with the minimum in the array\n",
    "    "
   ]
  },
  {
   "cell_type": "markdown",
   "metadata": {},
   "source": [
    "<img src=\"images/selection_sort_2.png\" width=\"500\" height=\"400\">"
   ]
  },
  {
   "cell_type": "markdown",
   "metadata": {},
   "source": [
    "1. increment $k$ the size of the sorted part of the array. "
   ]
  },
  {
   "cell_type": "markdown",
   "metadata": {},
   "source": [
    "<img src=\"images/selection_sort_3.png\" width=\"500\" height=\"400\">"
   ]
  },
  {
   "cell_type": "markdown",
   "metadata": {},
   "source": [
    "1. repeat until all the array is sorted"
   ]
  },
  {
   "cell_type": "code",
   "execution_count": 25,
   "metadata": {},
   "outputs": [],
   "source": [
    "def selection_sort(arr: List[int], k:int) ->List[int]:\n",
    "    \n",
    "    n = len(arr)\n",
    "    \n",
    "    assert k >= 1\n",
    "\n",
    "    # O(k)\n",
    "    for i in range(k):\n",
    "\n",
    "        # O(n)\n",
    "        # find min in the unsorted array\n",
    "        min_pos = i\n",
    "        for j in range(i+1, n):\n",
    "        \n",
    "            #print(f\"i:{i}; j: {j}; min_pos: {min_pos}\")\n",
    "            if arr[j] < arr[min_pos]:\n",
    "                \n",
    "                min_pos = j\n",
    "                \n",
    "        # swap(i,j)\n",
    "        arr[i], arr[min_pos] = arr[min_pos], arr[i]        "
   ]
  },
  {
   "cell_type": "code",
   "execution_count": 27,
   "metadata": {},
   "outputs": [
    {
     "name": "stdout",
     "output_type": "stream",
     "text": [
      "1: [11, 25, 12, 22, 64]\n",
      "2: [11, 12, 25, 22, 64]\n",
      "3: [11, 12, 22, 25, 64]\n",
      "4: [11, 12, 22, 25, 64]\n"
     ]
    }
   ],
   "source": [
    "for k in range(1,5):\n",
    "\n",
    "    arr = [64,25,12,22,11]        \n",
    "    selection_sort(arr,k)\n",
    "    print(f\"{k}: {arr}\")\n"
   ]
  },
  {
   "cell_type": "markdown",
   "metadata": {},
   "source": [
    "## Heapsort\n",
    "\n",
    "https://docs.python.org/3/library/heapq.html"
   ]
  },
  {
   "cell_type": "markdown",
   "metadata": {},
   "source": [
    "* Time: O(n log k)\n",
    "    * if k = n: O(n log n)\n",
    "* Space: O(1) youc an rea arrange the data in athe array in place like in quicksort"
   ]
  },
  {
   "cell_type": "code",
   "execution_count": 42,
   "metadata": {},
   "outputs": [],
   "source": [
    "from heapq import heappush, heappop, heapify\n",
    "\n",
    "def heap_sort(arr, k):\n",
    "    \n",
    "    h = []\n",
    "    for value in arr:\n",
    "        heappush(h, value)\n",
    "\n",
    "    return [heappop(h) for i in range(len(h))]\n"
   ]
  },
  {
   "cell_type": "code",
   "execution_count": 43,
   "metadata": {},
   "outputs": [
    {
     "data": {
      "text/plain": [
       "[11, 12, 22, 25, 64]"
      ]
     },
     "execution_count": 43,
     "metadata": {},
     "output_type": "execute_result"
    }
   ],
   "source": [
    "arr = [64,25,12,22,11]\n",
    "heap_sort(arr)"
   ]
  },
  {
   "cell_type": "markdown",
   "metadata": {},
   "source": [
    "* Applications: return the kth max in array (returns out of order)"
   ]
  }
 ],
 "metadata": {
  "kernelspec": {
   "display_name": "Python 3",
   "language": "python",
   "name": "python3"
  },
  "language_info": {
   "codemirror_mode": {
    "name": "ipython",
    "version": 3
   },
   "file_extension": ".py",
   "mimetype": "text/x-python",
   "name": "python",
   "nbconvert_exporter": "python",
   "pygments_lexer": "ipython3",
   "version": "3.8.3"
  },
  "toc": {
   "base_numbering": 1,
   "nav_menu": {},
   "number_sections": true,
   "sideBar": true,
   "skip_h1_title": false,
   "title_cell": "Table of Contents",
   "title_sidebar": "Contents",
   "toc_cell": false,
   "toc_position": {},
   "toc_section_display": true,
   "toc_window_display": true
  },
  "varInspector": {
   "cols": {
    "lenName": 16,
    "lenType": 16,
    "lenVar": 40
   },
   "kernels_config": {
    "python": {
     "delete_cmd_postfix": "",
     "delete_cmd_prefix": "del ",
     "library": "var_list.py",
     "varRefreshCmd": "print(var_dic_list())"
    },
    "r": {
     "delete_cmd_postfix": ") ",
     "delete_cmd_prefix": "rm(",
     "library": "var_list.r",
     "varRefreshCmd": "cat(var_dic_list()) "
    }
   },
   "types_to_exclude": [
    "module",
    "function",
    "builtin_function_or_method",
    "instance",
    "_Feature"
   ],
   "window_display": false
  }
 },
 "nbformat": 4,
 "nbformat_minor": 2
}
