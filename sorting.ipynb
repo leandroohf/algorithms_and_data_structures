{
 "cells": [
  {
   "cell_type": "markdown",
   "metadata": {},
   "source": [
    "# Sorting Algorithms\n",
    "\n",
    "refs:\n",
    "\n",
    "Some discussion:\n",
    "\n",
    "\n"
   ]
  },
  {
   "cell_type": "code",
   "execution_count": 3,
   "metadata": {},
   "outputs": [],
   "source": [
    "from typing import List, Set, Dict, Tuple, Optional, Union\n",
    "\n",
    "import IPython\n",
    "from IPython.core.interactiveshell import InteractiveShell\n",
    "InteractiveShell.ast_node_interactivity = \"all\""
   ]
  },
  {
   "cell_type": "markdown",
   "metadata": {},
   "source": [
    "## Summary "
   ]
  },
  {
   "cell_type": "markdown",
   "metadata": {},
   "source": [
    "## Buble sort\n"
   ]
  },
  {
   "cell_type": "markdown",
   "metadata": {},
   "source": [
    "## Quicksort"
   ]
  },
  {
   "cell_type": "markdown",
   "metadata": {},
   "source": [
    "## MergeSort \n",
    "\n",
    "ref:\n",
    "* https://leetcode.com/explore/learn/card/recursion-ii/470/divide-and-conquer/2868/\n",
    "\n",
    "Complexity:\n",
    "* Time: O(n log n)\n",
    "* Space: O(n)\n",
    "\n",
    "Merge sort is divie-and-conquer algorithm. In this notebook we will imlement the top-down approach\n",
    "\n",
    "1. Divide the arr is small sublist (**Divide**)\n",
    "1. Sort the sublists  (**Conquer**)\n",
    "1. Merge the ordered list (**Combine**)\n",
    "\n",
    "The algorithm can be visualiza with the image below:\n",
    "\n",
    "<img src=\"images/topdown_mergesort.png\" width=\"600\" height=\"400\">\n",
    "\n",
    "The algorithm explores the idea that an empty list or a list of one element is already sorted and the fact we can merge sorted list in linear complexity $O(n)$\n"
   ]
  },
  {
   "cell_type": "code",
   "execution_count": 17,
   "metadata": {},
   "outputs": [
    {
     "data": {
      "text/plain": [
       "[2, 4, 5, 7]"
      ]
     },
     "execution_count": 17,
     "metadata": {},
     "output_type": "execute_result"
    },
    {
     "data": {
      "text/plain": [
       "[1, 2, 3]"
      ]
     },
     "execution_count": 17,
     "metadata": {},
     "output_type": "execute_result"
    },
    {
     "data": {
      "text/plain": [
       "[]"
      ]
     },
     "execution_count": 17,
     "metadata": {},
     "output_type": "execute_result"
    }
   ],
   "source": [
    "def _merge(left_arr,right_arr):\n",
    "    \n",
    "    left = right = 0\n",
    "    \n",
    "    sorted_arr = []\n",
    "    while left < len(left_arr) and right < len(right_arr):\n",
    "    \n",
    "        if left_arr[left] < right_arr[right]:\n",
    "        \n",
    "            sorted_arr.append(left_arr[left])\n",
    "            left += 1\n",
    "            \n",
    "        else:\n",
    "            \n",
    "            sorted_arr.append(right_arr[right] )\n",
    "            right += 1\n",
    "            \n",
    "    # append the rest of the list\n",
    "    sorted_arr.extend(left_arr[left:])  # left_arr[1,2,3], left = 3 left_arr[left:] = []\n",
    "    sorted_arr.extend(right_arr[right:])\n",
    "        \n",
    "    return sorted_arr\n",
    "\n",
    "def merge_sort(arr: list):\n",
    "    \n",
    "    n = len(arr)\n",
    "    \n",
    "    # base case\n",
    "    if n == 1 or n == 0:\n",
    "        return arr\n",
    "    \n",
    "    pivot = n // 2\n",
    "    \n",
    "    left_arr = merge_sort(arr[0:pivot])\n",
    "    right_arr =  merge_sort(arr[pivot:])\n",
    "    \n",
    "    return _merge(left_arr, right_arr)\n",
    "\n",
    "\n",
    "merge_sort([4,2,7,5])\n",
    "merge_sort([1,2,3])\n",
    "merge_sort([])"
   ]
  },
  {
   "cell_type": "code",
   "execution_count": 4,
   "metadata": {},
   "outputs": [
    {
     "data": {
      "text/plain": [
       "[]"
      ]
     },
     "execution_count": 4,
     "metadata": {},
     "output_type": "execute_result"
    }
   ],
   "source": [
    "# Note regards of the extend line when left is the ize of the left_arr\n",
    "left_arr = [1,2,3]\n",
    "left = 3\n",
    "\n",
    "left_arr[left:]"
   ]
  },
  {
   "cell_type": "markdown",
   "metadata": {},
   "source": [
    "Let forst draw the recursion tree for small example\n",
    "\n",
    "\n",
    "```text\n",
    "\n",
    "          f([3,1,5,4])\n",
    "        /              \\\n",
    "    f([3,1])            f([5,4])          <= each level has n elements \n",
    "   /       \\            /      \\\n",
    " f([3])     f([1])    f([5])    f([4])    <= also has n elements \n",
    "\n",
    "For merge each level it will takes O(n) to merge all elements in a level. But there is log_2 N levels in the tree\n",
    "```\n",
    "\n",
    "There are to steps\n",
    "\n",
    "* Divide steps\n",
    "\n",
    "    * Time complexity: O(N) since we split n-1 times the array\n",
    "    * Space; O(1)\n",
    "    \n",
    "* Merge steps:\n",
    "\n",
    "    * Time: O(N log n). Each level takes O(N)  per leveland there are $log_2 N$ levels\n",
    "    * Space: O(N) since the size of all sorted_arr should be equal to N in all levels\n",
    "\n",
    "\n",
    "For the over all algorith:\n",
    "* Time: O(N log n). Each level takes O(N)  per leveland there are $log_2 N$ levels\n",
    "* Space: O(N) since the size of all sorted_arr should be equal to N in all levels"
   ]
  },
  {
   "cell_type": "code",
   "execution_count": null,
   "metadata": {},
   "outputs": [],
   "source": []
  }
 ],
 "metadata": {
  "kernelspec": {
   "display_name": "Python 3",
   "language": "python",
   "name": "python3"
  },
  "language_info": {
   "codemirror_mode": {
    "name": "ipython",
    "version": 3
   },
   "file_extension": ".py",
   "mimetype": "text/x-python",
   "name": "python",
   "nbconvert_exporter": "python",
   "pygments_lexer": "ipython3",
   "version": "3.8.3"
  },
  "toc": {
   "base_numbering": 1,
   "nav_menu": {},
   "number_sections": true,
   "sideBar": true,
   "skip_h1_title": false,
   "title_cell": "Table of Contents",
   "title_sidebar": "Contents",
   "toc_cell": false,
   "toc_position": {},
   "toc_section_display": true,
   "toc_window_display": true
  },
  "varInspector": {
   "cols": {
    "lenName": 16,
    "lenType": 16,
    "lenVar": 40
   },
   "kernels_config": {
    "python": {
     "delete_cmd_postfix": "",
     "delete_cmd_prefix": "del ",
     "library": "var_list.py",
     "varRefreshCmd": "print(var_dic_list())"
    },
    "r": {
     "delete_cmd_postfix": ") ",
     "delete_cmd_prefix": "rm(",
     "library": "var_list.r",
     "varRefreshCmd": "cat(var_dic_list()) "
    }
   },
   "types_to_exclude": [
    "module",
    "function",
    "builtin_function_or_method",
    "instance",
    "_Feature"
   ],
   "window_display": false
  }
 },
 "nbformat": 4,
 "nbformat_minor": 2
}
