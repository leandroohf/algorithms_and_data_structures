{
 "cells": [
  {
   "cell_type": "markdown",
   "metadata": {},
   "source": [
    "# Binary Search\n",
    "\n",
    "refs:\n",
    "* https://www.w3resource.com/python-exercises/data-structures-and-algorithms/python-search-and-sorting-exercise-1.php\n",
    "\n",
    "* https://en.wikipedia.org/wiki/Binary_search_algorithm\n",
    "\n",
    "* https://www.geeksforgeeks.org/binary-search/\n",
    "\n",
    "Some discussion:\n",
    "\n",
    "* It takes advantage of the information that the array is sorted.\n",
    "    * We basically ignore half of the elements just after one comparison  \n",
    "\n",
    "* Time complexity: O(log N)  compared with linear serach O(n) is much better\n",
    "\n",
    "\n",
    "* In the case switching insertion and deletion with search, It is better to use linear search with linked list.\n",
    "\n",
    "\n",
    "Sorted arrays with Binary Search are a very inefficient solution when insertion or deletion operations are interleaved with search. A better soltuion is to use Linear Search O(n) with linked list, which allows for faster insertion and deletion than an array\n",
    "\n"
   ]
  },
  {
   "cell_type": "code",
   "execution_count": 16,
   "metadata": {},
   "outputs": [],
   "source": [
    "import IPython\n",
    "from IPython.core.interactiveshell import InteractiveShell\n",
    "InteractiveShell.ast_node_interactivity = \"all\""
   ]
  },
  {
   "cell_type": "markdown",
   "metadata": {
    "heading_collapsed": true
   },
   "source": [
    "## Explanation"
   ]
  },
  {
   "cell_type": "markdown",
   "metadata": {
    "hidden": true
   },
   "source": [
    "\n",
    "Binary Search: Search a sorted array by repeatedly dividing the search interval in half. Begin with an interval covering the whole array. If the value of the search key is less than the item in the middle of the interval, narrow the interval to the lower half. Otherwise narrow it to the upper half. Repeatedly check until the value is found or the interval is empty.\n",
    "\n",
    "\n",
    "<img src=\"./images/binary-search-2.png\" alt=\"\" width=\"300\" height=\"400\">\n",
    "<img src=\"./images/binary-search-3.png\" alt=\"\" width=\"300\" height=\"400\">\n",
    "<img src=\"./images/binary-search-4.png\" alt=\"\" width=\"300\" height=\"400\">\n",
    "\n",
    "\n",
    "* avg: O(n log n)\n",
    "* arr must be ordered\n",
    "   \n",
    "   \n",
    "```c\n",
    "     int binary_serach(vector arr, int val){\n",
    "\n",
    "       int min = 0;\n",
    "       int max = arr.len -1;\n",
    "       int mid = -1;\n",
    "\n",
    "       while (min <= max){\n",
    "\n",
    "         mid = (min + max)/2; // truncate to integers\n",
    "\n",
    "         if (arr[mid] == val){\n",
    "           return mid;\n",
    "         }else if (arr[mid] > val){\n",
    "           max = mid -1;\n",
    "         }else{\n",
    "           min = mid + 1;\n",
    "         }\n",
    "       }\n",
    "\n",
    "       // not found \n",
    "       return mid\n",
    "     }\n",
    "```"
   ]
  },
  {
   "cell_type": "markdown",
   "metadata": {
    "heading_collapsed": true
   },
   "source": [
    "## Implementation"
   ]
  },
  {
   "cell_type": "code",
   "execution_count": 12,
   "metadata": {
    "hidden": true
   },
   "outputs": [],
   "source": [
    "# memorize this simple test case and the case to test for interviews\n",
    "# a = [1, 2 ,3, 4]\n",
    "# gen case: val = 3\n",
    "# special case: val = 1 (spot that you need while p_min <= p_max) I do need <= and no <\n",
    "def bin_search(arr, val):\n",
    "    \n",
    "    p_min = 0\n",
    "    p_max = len(arr)\n",
    "        \n",
    "    while p_min <= p_max:\n",
    "        \n",
    "        p_mid = (p_min + p_max)//2; # truncate to integers\n",
    "        \n",
    "        if(arr[p_mid] == val):\n",
    "            \n",
    "            return p_mid\n",
    "        \n",
    "        elif val < arr[p_mid]:\n",
    "\n",
    "            p_max = p_mid - 1\n",
    "            \n",
    "        else:\n",
    "            \n",
    "            p_min = p_mid + 1\n",
    "    \n",
    "    return -1"
   ]
  },
  {
   "cell_type": "code",
   "execution_count": 19,
   "metadata": {
    "hidden": true
   },
   "outputs": [
    {
     "data": {
      "text/plain": [
       "4"
      ]
     },
     "execution_count": 19,
     "metadata": {},
     "output_type": "execute_result"
    },
    {
     "data": {
      "text/plain": [
       "1"
      ]
     },
     "execution_count": 19,
     "metadata": {},
     "output_type": "execute_result"
    },
    {
     "data": {
      "text/plain": [
       "9"
      ]
     },
     "execution_count": 19,
     "metadata": {},
     "output_type": "execute_result"
    },
    {
     "data": {
      "text/plain": [
       "-1"
      ]
     },
     "execution_count": 19,
     "metadata": {},
     "output_type": "execute_result"
    }
   ],
   "source": [
    "arr = [1, 3, 4 ,5, 6, 8,9]\n",
    "val = 4\n",
    "\n",
    "p = bin_search(arr, val)\n",
    "arr[p]\n",
    "\n",
    "\n",
    "val = 1\n",
    "p = bin_search(arr, val)\n",
    "arr[p]\n",
    "\n",
    "val = 9\n",
    "p = bin_search(arr, val)\n",
    "arr[p]\n",
    "\n",
    "\n",
    "val = 7\n",
    "p = bin_search(arr, val)\n",
    "p"
   ]
  },
  {
   "cell_type": "markdown",
   "metadata": {
    "heading_collapsed": true
   },
   "source": [
    "## Recursion implementation\n",
    "\n",
    "\n",
    "1. If val == arr[mid]  return mid \n",
    "1. if val > arr[mi] call bin search in the right arr\n",
    "1. if val < arr[mi] call bin search in the left arr\n",
    "1. if r > l not found\n"
   ]
  },
  {
   "cell_type": "code",
   "execution_count": 12,
   "metadata": {
    "hidden": true
   },
   "outputs": [],
   "source": [
    "def bin_search_recursive(val, arr,left, right):\n",
    "    \n",
    "    \n",
    "    if left <= right: # search\n",
    "        \n",
    "        mid = (left + right) //2 \n",
    "        \n",
    "        \n",
    "        if val > arr[mid]: # search right\n",
    "            \n",
    "            left = mid + 1\n",
    "            return bin_search_recursive(val, arr,left, right)\n",
    "        \n",
    "        elif val < arr[mid]: # search left\n",
    "            \n",
    "            right = mid - 1\n",
    "            return bin_search_recursive(val, arr,left, right)\n",
    "        \n",
    "        else: # found\n",
    "            \n",
    "            return mid\n",
    "        \n",
    "    else: # not found\n",
    "        \n",
    "        return -1\n",
    "    \n",
    "    \n",
    "def bin_search(arr, val):\n",
    "    \n",
    "    \n",
    "    left = 0\n",
    "    right = len(arr) - 1\n",
    "    \n",
    "    return bin_search_recursive(val, arr,left, right)\n",
    "    "
   ]
  },
  {
   "cell_type": "code",
   "execution_count": 14,
   "metadata": {
    "hidden": true
   },
   "outputs": [
    {
     "name": "stdout",
     "output_type": "stream",
     "text": [
      "val: 0\n",
      "pos: -1\n",
      "arr[-1]: 6\n",
      "=======================\n",
      "\n",
      "val: 1\n",
      "pos: 0\n",
      "arr[0]: 1\n",
      "=======================\n",
      "\n",
      "val: 2\n",
      "pos: 1\n",
      "arr[1]: 2\n",
      "=======================\n",
      "\n",
      "val: 3\n",
      "pos: 2\n",
      "arr[2]: 3\n",
      "=======================\n",
      "\n",
      "val: 4\n",
      "pos: 3\n",
      "arr[3]: 4\n",
      "=======================\n",
      "\n",
      "val: 5\n",
      "pos: 4\n",
      "arr[4]: 5\n",
      "=======================\n",
      "\n"
     ]
    }
   ],
   "source": [
    "arr = [1,2,3,4,5,6]\n",
    "\n",
    "for val in range(0,6):\n",
    "    \n",
    "    print(f\"val: {val}\")\n",
    "    \n",
    "    p = bin_search(arr, val)\n",
    "\n",
    "    print(f\"pos: {p}\")\n",
    "    print(f\"arr[{p}]: {arr[p]}\")\n",
    "    print(\"=======================\\n\")\n",
    "    "
   ]
  }
 ],
 "metadata": {
  "kernelspec": {
   "display_name": "Python 3",
   "language": "python",
   "name": "python3"
  },
  "language_info": {
   "codemirror_mode": {
    "name": "ipython",
    "version": 3
   },
   "file_extension": ".py",
   "mimetype": "text/x-python",
   "name": "python",
   "nbconvert_exporter": "python",
   "pygments_lexer": "ipython3",
   "version": "3.8.3"
  },
  "toc": {
   "base_numbering": 1,
   "nav_menu": {},
   "number_sections": true,
   "sideBar": true,
   "skip_h1_title": false,
   "title_cell": "Table of Contents",
   "title_sidebar": "Contents",
   "toc_cell": false,
   "toc_position": {},
   "toc_section_display": true,
   "toc_window_display": true
  },
  "varInspector": {
   "cols": {
    "lenName": 16,
    "lenType": 16,
    "lenVar": 40
   },
   "kernels_config": {
    "python": {
     "delete_cmd_postfix": "",
     "delete_cmd_prefix": "del ",
     "library": "var_list.py",
     "varRefreshCmd": "print(var_dic_list())"
    },
    "r": {
     "delete_cmd_postfix": ") ",
     "delete_cmd_prefix": "rm(",
     "library": "var_list.r",
     "varRefreshCmd": "cat(var_dic_list()) "
    }
   },
   "types_to_exclude": [
    "module",
    "function",
    "builtin_function_or_method",
    "instance",
    "_Feature"
   ],
   "window_display": false
  }
 },
 "nbformat": 4,
 "nbformat_minor": 2
}
