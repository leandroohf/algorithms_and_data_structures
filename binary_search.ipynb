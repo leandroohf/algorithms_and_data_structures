{
 "cells": [
  {
   "cell_type": "markdown",
   "metadata": {},
   "source": [
    "# Binary Search\n",
    "\n",
    "refs:\n",
    "* https://www.w3resource.com/python-exercises/data-structures-and-algorithms/python-search-and-sorting-exercise-1.php\n",
    "* https://en.wikipedia.org/wiki/Binary_search_algorithm\n",
    "\n",
    "\n",
    "Some discussion:\n",
    "\n",
    "Sorted arrays with Binary Search are a very inefficient solution when insertion or deletion operations are interleaved with serach. A better soltuion is to use Linear Search O(n) with linked list, which allows for faster insertion and deletion than an array\n",
    "\n"
   ]
  },
  {
   "cell_type": "code",
   "execution_count": 16,
   "metadata": {},
   "outputs": [],
   "source": [
    "import IPython\n",
    "from IPython.core.interactiveshell import InteractiveShell\n",
    "InteractiveShell.ast_node_interactivity = \"all\""
   ]
  },
  {
   "cell_type": "markdown",
   "metadata": {},
   "source": [
    "\n",
    "Binary Search: Search a sorted array by repeatedly dividing the search interval in half. Begin with an interval covering the whole array. If the value of the search key is less than the item in the middle of the interval, narrow the interval to the lower half. Otherwise narrow it to the upper half. Repeatedly check until the value is found or the interval is empty.\n",
    "\n",
    "\n",
    "<img src=\"./images/binary-search-2.png\" alt=\"\" width=\"300\" height=\"400\">\n",
    "<img src=\"./images/binary-search-3.png\" alt=\"\" width=\"300\" height=\"400\">\n",
    "<img src=\"./images/binary-search-4.png\" alt=\"\" width=\"300\" height=\"400\">\n",
    "\n",
    "\n",
    "* avg: O(n log n)\n",
    "* arr must be ordered\n",
    "   \n",
    "   \n",
    "```c\n",
    "     int binary_serach(vector arr, int val){\n",
    "\n",
    "       int min = 0;\n",
    "       int max = arr.len -1;\n",
    "       int mid = -1;\n",
    "\n",
    "       while (min <= max){\n",
    "\n",
    "         mid = (min + max)/2; // truncate to integers\n",
    "\n",
    "         if (arr[mid] == val){\n",
    "           return mid;\n",
    "         }else if (arr[mid] > val){\n",
    "           max = mid -1;\n",
    "         }else{\n",
    "           min = mid + 1;\n",
    "         }\n",
    "       }\n",
    "\n",
    "       // not found \n",
    "       return mid\n",
    "     }\n",
    "```"
   ]
  },
  {
   "cell_type": "code",
   "execution_count": 12,
   "metadata": {},
   "outputs": [],
   "source": [
    "def bin_search(arr, val):\n",
    "    \n",
    "    p_min = 0\n",
    "    p_max = len(arr)\n",
    "        \n",
    "    while p_min <= p_max:\n",
    "        \n",
    "        p_mid = (p_min + p_max)//2; # truncate to integers\n",
    "        \n",
    "        if(arr[p_mid] == val):\n",
    "            \n",
    "            return p_mid\n",
    "        \n",
    "        elif val < arr[p_mid]:\n",
    "\n",
    "            p_max = p_mid - 1\n",
    "            \n",
    "        else:\n",
    "            \n",
    "            p_min = p_mid + 1\n",
    "    \n",
    "    return -1"
   ]
  },
  {
   "cell_type": "code",
   "execution_count": 19,
   "metadata": {},
   "outputs": [
    {
     "data": {
      "text/plain": [
       "4"
      ]
     },
     "execution_count": 19,
     "metadata": {},
     "output_type": "execute_result"
    },
    {
     "data": {
      "text/plain": [
       "1"
      ]
     },
     "execution_count": 19,
     "metadata": {},
     "output_type": "execute_result"
    },
    {
     "data": {
      "text/plain": [
       "9"
      ]
     },
     "execution_count": 19,
     "metadata": {},
     "output_type": "execute_result"
    },
    {
     "data": {
      "text/plain": [
       "-1"
      ]
     },
     "execution_count": 19,
     "metadata": {},
     "output_type": "execute_result"
    }
   ],
   "source": [
    "arr = [1, 3, 4 ,5, 6, 8,9]\n",
    "val = 4\n",
    "\n",
    "p = bin_search(arr, val)\n",
    "arr[p]\n",
    "\n",
    "\n",
    "val = 1\n",
    "p = bin_search(arr, val)\n",
    "arr[p]\n",
    "\n",
    "val = 9\n",
    "p = bin_search(arr, val)\n",
    "arr[p]\n",
    "\n",
    "\n",
    "val = 7\n",
    "p = bin_search(arr, val)\n",
    "p"
   ]
  }
 ],
 "metadata": {
  "kernelspec": {
   "display_name": "Python 3",
   "language": "python",
   "name": "python3"
  },
  "language_info": {
   "codemirror_mode": {
    "name": "ipython",
    "version": 3
   },
   "file_extension": ".py",
   "mimetype": "text/x-python",
   "name": "python",
   "nbconvert_exporter": "python",
   "pygments_lexer": "ipython3",
   "version": "3.7.4"
  }
 },
 "nbformat": 4,
 "nbformat_minor": 2
}
