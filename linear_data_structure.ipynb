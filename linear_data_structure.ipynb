{
 "cells": [
  {
   "cell_type": "markdown",
   "metadata": {},
   "source": [
    "# Linear Data structutre\n"
   ]
  },
  {
   "cell_type": "code",
   "execution_count": 1,
   "metadata": {},
   "outputs": [],
   "source": [
    "from typing import List\n",
    "\n",
    "import IPython\n",
    "from IPython.core.interactiveshell import InteractiveShell\n",
    "InteractiveShell.ast_node_interactivity = \"all\""
   ]
  },
  {
   "cell_type": "markdown",
   "metadata": {},
   "source": [
    "## Linked Lists and arrays\n",
    "\n",
    "refs:\n",
    "* https://www.geeksforgeeks.org/linked-list-vs-array/"
   ]
  },
  {
   "cell_type": "markdown",
   "metadata": {},
   "source": [
    "**Advantages:**\n",
    "  \n",
    "* Linekd List\n",
    "    1. Dynamic size: suitable when you do not know the size\n",
    "    1. Easy to insert and delete elements\n",
    "    \n",
    "* Array\n",
    "    * Use less memory per element (Do not need to allocate a pointer to next element)\n",
    "    * Easy to acces\n",
    "    * Random access\n",
    "    * Array have a better performance in access the elements because of the cache of contiguos memory space\n"
   ]
  },
  {
   "cell_type": "markdown",
   "metadata": {},
   "source": [
    "## Stack\n",
    "\n",
    "refs:\n",
    "* https://www.geeksforgeeks.org/stack-data-structure-introduction-program/"
   ]
  },
  {
   "cell_type": "markdown",
   "metadata": {},
   "source": [
    "<img src=\"images/stack.png\" style=\"float:left\" width=\"600\" align=\"left\">"
   ]
  },
  {
   "cell_type": "markdown",
   "metadata": {},
   "source": [
    "**Applications**\n",
    "\n",
    "\n",
    "1. Redo-undo features at many places like editors, photoshop.\n",
    "1. Browser forward and backward features\n",
    "1. **Reverses objestcs** like reverse a string\n",
    "1. Program ammerory. Every program has a stack to mage memory\n",
    "1. **Balancing Symbols**: chekc open and closed brackets\n",
    "1. **DFS** algo in trees and Graphs\n",
    "1. Backtracking problems  like solve a maze or chess and checkers\n"
   ]
  },
  {
   "cell_type": "markdown",
   "metadata": {},
   "source": [
    "### Array implementattion"
   ]
  },
  {
   "cell_type": "code",
   "execution_count": 2,
   "metadata": {},
   "outputs": [],
   "source": [
    "class Stack():\n",
    "    \n",
    "    def __init__(self, capacity):\n",
    "        \n",
    "        self.stack = [None]* capacity\n",
    "        self.capacity = capacity\n",
    "        \n",
    "        self.size = 0\n",
    "        \n",
    "        pass\n",
    "    \n",
    "    \n",
    "    def pop(self):\n",
    "        \n",
    "        if self.size == 0:\n",
    "            \n",
    "            print(\"stack is empty\")\n",
    "            return None\n",
    "        \n",
    "        x = self.stack[self.size -1]\n",
    "        \n",
    "        return x\n",
    "    \n",
    "    def push(self, x):\n",
    "\n",
    "        if self.size == self.capacity:\n",
    "            \n",
    "            print(\"Stack is full\")\n",
    "            \n",
    "        self.stack[self.size] = x\n",
    "        self.size += 1"
   ]
  },
  {
   "cell_type": "code",
   "execution_count": 3,
   "metadata": {},
   "outputs": [
    {
     "name": "stdout",
     "output_type": "stream",
     "text": [
      "stack is empty\n"
     ]
    },
    {
     "data": {
      "text/plain": [
       "[1, 2, 3]"
      ]
     },
     "execution_count": 3,
     "metadata": {},
     "output_type": "execute_result"
    },
    {
     "data": {
      "text/plain": [
       "3"
      ]
     },
     "execution_count": 3,
     "metadata": {},
     "output_type": "execute_result"
    }
   ],
   "source": [
    "stack = Stack(3)\n",
    "\n",
    "stack.pop()\n",
    "\n",
    "stack.push(1)\n",
    "stack.push(2)\n",
    "stack.push(3)\n",
    "\n",
    "stack.stack\n",
    "stack.pop()"
   ]
  },
  {
   "cell_type": "markdown",
   "metadata": {},
   "source": [
    "### Implement a stack using singly linked list\n",
    "\n",
    "https://www.geeksforgeeks.org/implement-a-stack-using-singly-linked-list/?ref=lbp"
   ]
  },
  {
   "cell_type": "code",
   "execution_count": 4,
   "metadata": {},
   "outputs": [],
   "source": [
    "class Node:\n",
    "    \n",
    "    def __init__(self, val):\n",
    "        \n",
    "        self.val = val\n",
    "        self.next = None\n",
    "\n",
    "class Stack():\n",
    "    \n",
    "    def __init__(self):\n",
    "        \n",
    "        self.head = None   # stack  \n",
    "        self.size = 0\n",
    "            \n",
    "    def pop(self):\n",
    "        \n",
    "        if self.size == 0:\n",
    "            \n",
    "            print(\"stack is empty\")\n",
    "            return None\n",
    "                \n",
    "        node = self.head\n",
    "        \n",
    "        self.head = node.next\n",
    "        \n",
    "        return node\n",
    "    \n",
    "    def push(self, node):\n",
    "            \n",
    "        node.next = self.head        \n",
    "        self.head = node\n",
    "        self.size += 1"
   ]
  },
  {
   "cell_type": "code",
   "execution_count": 5,
   "metadata": {},
   "outputs": [
    {
     "name": "stdout",
     "output_type": "stream",
     "text": [
      "stack is empty\n"
     ]
    },
    {
     "data": {
      "text/plain": [
       "3"
      ]
     },
     "execution_count": 5,
     "metadata": {},
     "output_type": "execute_result"
    }
   ],
   "source": [
    "stack = Stack()\n",
    "\n",
    "stack.pop()\n",
    "\n",
    "stack.push(Node(1))\n",
    "stack.push(Node(2))\n",
    "stack.push(Node(3))\n",
    "\n",
    "node = stack.pop()\n",
    "\n",
    "node.val"
   ]
  },
  {
   "cell_type": "markdown",
   "metadata": {},
   "source": [
    "## Queue"
   ]
  },
  {
   "cell_type": "markdown",
   "metadata": {},
   "source": [
    "<img src=\"images/Queue.png\" style=\"float:left\" width=\"600\" align=\"left\">"
   ]
  },
  {
   "cell_type": "markdown",
   "metadata": {},
   "source": [
    "### Queue | Set 1 (Introduction and Array Implementation)\n",
    "\n",
    "https://www.geeksforgeeks.org/queue-set-1introduction-and-array-implementation/?ref=lbp"
   ]
  },
  {
   "cell_type": "markdown",
   "metadata": {},
   "source": [
    "**Applications of Queue:**\n",
    "    \n",
    "1. BFS in graph and trees \n",
    "1. When a resource is shared among multiple consumers. Examples include CPU scheduling, Disk Scheduling. \n",
    "1. When data is transferred asynchronously (data not necessarily received at same rate as sent) between two processes. Ex: IO Buffers, pipes, file IO, etc."
   ]
  },
  {
   "cell_type": "markdown",
   "metadata": {},
   "source": [
    "## Circular Queue\n",
    "\n",
    "* https://www.geeksforgeeks.org/circular-queue-set-1-introduction-array-implementation/\n",
    "* https://www.youtube.com/watch?v=LIwAejE5UxQ\n",
    "* https://www.youtube.com/watch?v=KSvMGwc9dN8\n"
   ]
  },
  {
   "cell_type": "markdown",
   "metadata": {},
   "source": [
    "Circular Queue is a linear data structure in which the operations are performed based on FIFO (First In First Out) principle and the last position is connected back to the first position to make a circle. It is also called **‘Ring Buffer’.** "
   ]
  },
  {
   "cell_type": "markdown",
   "metadata": {},
   "source": [
    "<img src=\"images/Circular-queue.png\" style=\"float:left\" width=\"200\" align=\"left\">"
   ]
  },
  {
   "cell_type": "markdown",
   "metadata": {},
   "source": [
    "* **Benefits:**\n",
    "\n",
    "    1. In a normal Queue, we can insert elements until queue becomes full. But once queue becomes full, we can not insert the next element even if there is a space in front of queue. Circular solve this problem.  \n",
    "    \n",
    "    1. Circular queue consumes less memory than linear queue because in queue while doing insertion after deletion operation it allocate an extra space and the deleted memory remains vacant and cannot be used for other process running in the CPU. \n",
    "    \n",
    "    1. (Array implementation) Doesn’t use dynamic memory. No memory leaks.\n",
    "    \n",
    "    1. Simple Implementation. Easy to debug and trust\n",
    "    \n",
    "    1. All operations occur in constant time $O(1)$\n",
    "\n",
    "\n",
    "* Disadvantages\n",
    "\n",
    "    1. There is maximum capacity and you have to know the max size beforehand\n",
    "\n",
    "**Applications Of A Circular Queue:**\n",
    "\n",
    "* Memory management: circular queue is used in memory management. The unused memory locations in the case of ordinary queues can be utilized in circular queues. \n",
    "* Process Scheduling: A CPU uses a queue to schedule processes. Operating systems often maintain a queue of processes that are ready to execute or that are waiting for a particular event to occur.\n",
    "* Traffic Systems: Queues are also used in traffic systems."
   ]
  },
  {
   "cell_type": "markdown",
   "metadata": {},
   "source": [
    "**Operations on Circular Queue:**\n",
    "\n",
    "* enQueue(value) This function is used to insert an element into the circular queue. In a circular queue, the new element is always inserted at Rear position.  \n",
    "\n",
    "\n",
    "    1. Check whether queue is Full – Check ((rear == SIZE-1 && front == 0) || (rear == front-1)).\n",
    "    1.  it is full then display Queue is full. If queue is not full then, check if (rear == SIZE – 1 && front != 0) if it is true then set rear=0 and insert element.\n",
    "    \n",
    "    \n",
    "* deQueue() This function is used to delete an element from the circular queue. In a circular queue, the element is always deleted from front position. \n",
    "\n",
    "    1. Check whether queue is Empty means check (front==-1).\n",
    "    1. If it is empty then display Queue is empty. If queue is not empty then step 3\n",
    "    1. Check if (front==rear) if it is true then set front=rear= -1 else check if (front==size-1), if it is true then set front=0 and return the element.\n",
    "    "
   ]
  },
  {
   "cell_type": "markdown",
   "metadata": {},
   "source": [
    "<img src=\"images/Circular-queue_1.png\" style=\"float:left\" width=\"800\" align=\"left\">"
   ]
  },
  {
   "cell_type": "markdown",
   "metadata": {},
   "source": [
    "**Complexity**\n",
    "\n",
    "* Time: insert and remove  constant: $O(1)$\n",
    "* Space: $O(capacity)$\n"
   ]
  },
  {
   "cell_type": "markdown",
   "metadata": {},
   "source": [
    "### Array implementation\n",
    "\n",
    "THis should be a good rule of thumb. Even if you do not need. You can store the size of the data structure taht might simplify the imlementation. Les code, means less erro and less things to check. (**Less is More**. **Any line of code is a liability**)\n",
    "\n"
   ]
  },
  {
   "cell_type": "code",
   "execution_count": 6,
   "metadata": {},
   "outputs": [],
   "source": [
    "class CircularQueue(): \n",
    "    \n",
    "    def __init__(self, capacity):\n",
    "        \n",
    "        self.capacity = capacity\n",
    "        self.queue = [None]*capacity   # array implementation\n",
    "\n",
    "        self.size = 0 \n",
    "    \n",
    "        self.front = 0   # <== Very important\n",
    "        self.rear = -1\n",
    "\n",
    "    def en_queue(self, x):  # write in queue function\n",
    "    \n",
    "        if self.size == self.capacity:\n",
    "\n",
    "            # queue is full\n",
    "            print(\"Queue is Full\" )\n",
    "            return 0 # inserted zero elements\n",
    "\n",
    "        self.rear = (self.rear + 1) % self.capacity\n",
    "        self.queue[self.rear] = x\n",
    "        self.size += 1\n",
    "            \n",
    "        return 1 # inserted one element\n",
    "        \n",
    "    def de_queue(self):    # read from queue function\n",
    "\n",
    "        \n",
    "        if self.size == 0:\n",
    "            print(\"Empty\")\n",
    "            return None\n",
    "        \n",
    "        \n",
    "        x = self.queue[self.front]\n",
    "        self.front = (self.front + 1) % self.capacity\n",
    "        self.size -= 1\n",
    "        \n",
    "        return x\n",
    "    \n",
    "    def get_size(self):\n",
    "\n",
    "        return self.size\n",
    "    \n",
    "    def print_queue(self):\n",
    "         \n",
    "        if self.size == 0:\n",
    "            \n",
    "            print(\"Empty\")\n",
    "            \n",
    "        else:\n",
    "            \n",
    "            idx = self.front\n",
    "            \n",
    "            for k in range(self.size):\n",
    "                \n",
    "                x = self.queue[idx]\n",
    "                print(x,end=\"->\")\n",
    "                \n",
    "                idx = (idx + 1) % self.capacity\n",
    "            print(\"Null\")\n",
    "                "
   ]
  },
  {
   "cell_type": "code",
   "execution_count": 7,
   "metadata": {},
   "outputs": [
    {
     "name": "stdout",
     "output_type": "stream",
     "text": [
      "capacity: 5\n"
     ]
    },
    {
     "data": {
      "text/plain": [
       "[None, None, None, None, None]"
      ]
     },
     "execution_count": 7,
     "metadata": {},
     "output_type": "execute_result"
    },
    {
     "name": "stdout",
     "output_type": "stream",
     "text": [
      "queue size: 0\n",
      "Removing form empty queue\n",
      "Empty\n",
      "None\n",
      "\n",
      "filling the queue\n",
      "Empty\n",
      "14->Null\n",
      "queue size: 2\n",
      "14->22->Null\n",
      "q: [14, 22, 13, -6, None]; rear:3 -> front: 0; size: 4\n",
      "14->22->13->-6->Null\n",
      "Removing front: 14\n"
     ]
    },
    {
     "data": {
      "text/plain": [
       "14"
      ]
     },
     "execution_count": 7,
     "metadata": {},
     "output_type": "execute_result"
    },
    {
     "name": "stdout",
     "output_type": "stream",
     "text": [
      "22->13->-6->Null\n",
      "Removing front: 22\n"
     ]
    },
    {
     "data": {
      "text/plain": [
       "22"
      ]
     },
     "execution_count": 7,
     "metadata": {},
     "output_type": "execute_result"
    },
    {
     "name": "stdout",
     "output_type": "stream",
     "text": [
      "queue size: 2\n",
      "13->-6->Null\n",
      "q: [14, 22, 13, -6, None]; rear:3 -> front: 2; size: 2\n",
      "queue size: 5\n",
      "q: [20, 5, 13, -6, 9]; rear:1 -> front: 2; size: 5\n",
      "13->-6->9->20->5->Null\n",
      "\n",
      "Inserting in queue and queue is out of capacity\n",
      "Queue is Full\n"
     ]
    },
    {
     "data": {
      "text/plain": [
       "0"
      ]
     },
     "execution_count": 7,
     "metadata": {},
     "output_type": "execute_result"
    }
   ],
   "source": [
    "# Driver Code \n",
    "ob = CircularQueue(5)\n",
    "print(f\"capacity: {ob.capacity}\")\n",
    "ob.queue\n",
    "\n",
    "\n",
    "print(f\"queue size: {ob.get_size()}\")\n",
    "\n",
    "print(f\"Removing form empty queue\")\n",
    "x = ob.de_queue()\n",
    "print(x)\n",
    "\n",
    "\n",
    "print()\n",
    "print(\"filling the queue\")\n",
    "# empty\n",
    "_ = ob.print_queue()\n",
    "\n",
    "_ = ob.en_queue(14) \n",
    "ob.print_queue()\n",
    "\n",
    "_ = ob.en_queue(22)\n",
    "\n",
    "print(f\"queue size: {ob.get_size()}\")\n",
    "ob.print_queue()\n",
    "#print(f\"q: {ob.queue}; rear:{ob.rear} -> front: {ob.front}\")\n",
    "\n",
    "_ = ob.en_queue(13) \n",
    "_ = ob.en_queue(-6) \n",
    "\n",
    "print(f\"q: {ob.queue}; rear:{ob.rear} -> front: {ob.front}; size: {ob.get_size()}\")\n",
    "ob.print_queue()\n",
    "\n",
    "print(f\"Removing front: {ob.queue[ob.front]}\")\n",
    "ob.de_queue()\n",
    "ob.print_queue()\n",
    "\n",
    "print(f\"Removing front: {ob.queue[ob.front]}\")\n",
    "ob.de_queue()\n",
    "\n",
    "print(f\"queue size: {ob.get_size()}\")\n",
    "ob.print_queue()\n",
    "print(f\"q: {ob.queue}; rear:{ob.rear} -> front: {ob.front}; size: {ob.get_size()}\")\n",
    "\n",
    "_ = ob.en_queue(9) \n",
    "_ = ob.en_queue(20) \n",
    "_ = ob.en_queue(5) \n",
    "\n",
    "print(f\"queue size: {ob.get_size()}\")\n",
    "print(f\"q: {ob.queue}; rear:{ob.rear} -> front: {ob.front}; size: {ob.get_size()}\")\n",
    "\n",
    "ob.print_queue() \n",
    "\n",
    "print()\n",
    "print(\"Inserting in queue and queue is out of capacity\")\n",
    "n = ob.en_queue(7)\n",
    "n"
   ]
  },
  {
   "cell_type": "markdown",
   "metadata": {},
   "source": [
    "### Link list implementation\n",
    "\n",
    "refs:\n",
    "* https://www.youtube.com/watch?v=HsJc7a6NoTE\n",
    "* https://www.geeksforgeeks.org/circular-queue-set-2-circular-linked-list-implementation/\n",
    "* https://towardsdatascience.com/circular-queue-or-ring-buffer-92c7b0193326\n",
    "* https://www.geeksforgeeks.org/queue-linked-list-implementation/?ref=lbp\n",
    "\n",
    "\n",
    "**Benefits:**\n",
    "\n",
    "1. You can change capacity on the fly, after created the queue\n",
    "\n",
    "**Disadvantage:**\n",
    "\n",
    "1. There is extra cost of memory allocation and free memory\n"
   ]
  },
  {
   "cell_type": "code",
   "execution_count": 8,
   "metadata": {},
   "outputs": [],
   "source": [
    "class Node: \n",
    "    def __init__(self, val): \n",
    "\n",
    "        self.val = val\n",
    "        self.next = None\n",
    "\n",
    "class CircularQueue:\n",
    "    \n",
    "    def __init__(self, capacity = 3): \n",
    "    \n",
    "        self.front = None\n",
    "        self.rear = None\n",
    "        \n",
    "        self.size = 0\n",
    "        self.capacity = capacity\n",
    "        \n",
    "    def en_queue(self, x):  # write in queue function\n",
    "    \n",
    "        if self.size == self.capacity:\n",
    "\n",
    "            # queue is full\n",
    "            print(\"Queue is Full\" )\n",
    "            return 0 # inserted zero elements\n",
    "\n",
    "        node = Node(x)\n",
    "        if self.front is None: # is it first element?\n",
    "\n",
    "            self.front = node\n",
    "            self.rear = node\n",
    "            \n",
    "        node.next = self.front  # new node next point to front\n",
    "        self.rear.next = node   # old rear point to new node\n",
    "        self.rear = node   # update rear\n",
    "        \n",
    "        self.size +=1\n",
    "        \n",
    "        return 1 # inserted one element\n",
    "        \n",
    "    def de_queue(self):    # read from queue function\n",
    "  \n",
    "        if self.size == 0:\n",
    "            print(\"Empty\")\n",
    "            return None\n",
    "        \n",
    "        \n",
    "        node = Node(self.front.val)\n",
    "        next_node = self.front.next \n",
    "        \n",
    "        del self.front\n",
    "        \n",
    "        self.front = next_node\n",
    "        self.rear.next = self.front\n",
    "        \n",
    "        self.size -= 1\n",
    "        \n",
    "        return node\n",
    "    \n",
    "    def get_size(self):\n",
    "\n",
    "        return self.size\n",
    "    \n",
    "    def print_queue(self):\n",
    "         \n",
    "        if self.size == 0:\n",
    "            \n",
    "            print(\"Empty\")\n",
    "            \n",
    "        else:\n",
    "            \n",
    "            node = self.front\n",
    "            \n",
    "            for k in range(self.size):\n",
    "                \n",
    "                print(node.val,end=\"->\")\n",
    "                node = node.next\n",
    "\n",
    "            print(\"Null\")"
   ]
  },
  {
   "cell_type": "code",
   "execution_count": 9,
   "metadata": {},
   "outputs": [
    {
     "name": "stdout",
     "output_type": "stream",
     "text": [
      "capacity: 5\n",
      "queue size: 0\n",
      "Removing from empty queue\n",
      "Empty\n",
      "None\n",
      "\n",
      "filling the queue\n",
      "rear:14 -> front: 14; size: 1\n",
      "14->Null\n",
      "queue size: 2\n",
      "14->22->Null\n",
      "rear:-6 -> front: 14; size: 4\n",
      "14->22->13->-6->Null\n",
      "Removing front: 14\n",
      "22->13->-6->Null\n",
      "Removing front: 22\n",
      "queue size: 2\n",
      "13->-6->Null\n",
      "queue size: 5\n",
      "rear:5 -> front: 13; size: 5\n",
      "13->-6->9->20->5->Null\n",
      "\n",
      "Inserting in queue and queue is out of capacity\n",
      "Queue is Full\n"
     ]
    },
    {
     "data": {
      "text/plain": [
       "0"
      ]
     },
     "execution_count": 9,
     "metadata": {},
     "output_type": "execute_result"
    }
   ],
   "source": [
    "# Driver Code \n",
    "ob = CircularQueue(5)\n",
    "print(f\"capacity: {ob.capacity}\")\n",
    "\n",
    "print(f\"queue size: {ob.get_size()}\")\n",
    "\n",
    "print(f\"Removing from empty queue\")\n",
    "x = ob.de_queue()\n",
    "print(x)\n",
    "\n",
    "print()\n",
    "print(\"filling the queue\")\n",
    "\n",
    "_ = ob.en_queue(14) \n",
    "print(f\"rear:{ob.rear.val} -> front: {ob.front.val}; size: {ob.get_size()}\")\n",
    "ob.print_queue()\n",
    "\n",
    "_ = ob.en_queue(22)\n",
    "\n",
    "print(f\"queue size: {ob.get_size()}\")\n",
    "ob.print_queue()\n",
    "\n",
    "_ = ob.en_queue(13) \n",
    "_ = ob.en_queue(-6) \n",
    "\n",
    "print(f\"rear:{ob.rear.val} -> front: {ob.front.val}; size: {ob.get_size()}\")\n",
    "ob.print_queue()\n",
    "\n",
    "print(f\"Removing front: {ob.front.val}\")\n",
    "node = ob.de_queue()\n",
    "ob.print_queue()\n",
    "\n",
    "print(f\"Removing front: {ob.front.val}\")\n",
    "node = ob.de_queue()\n",
    "\n",
    "print(f\"queue size: {ob.get_size()}\")\n",
    "ob.print_queue()\n",
    "\n",
    "_ = ob.en_queue(9) \n",
    "_ = ob.en_queue(20) \n",
    "_ = ob.en_queue(5) \n",
    "\n",
    "print(f\"queue size: {ob.get_size()}\")\n",
    "print(f\"rear:{ob.rear.val} -> front: {ob.front.val}; size: {ob.get_size()}\")\n",
    "\n",
    "ob.print_queue() \n",
    "\n",
    "print()\n",
    "print(\"Inserting in queue and queue is out of capacity\")\n",
    "n = ob.en_queue(7)\n",
    "n"
   ]
  }
 ],
 "metadata": {
  "kernelspec": {
   "display_name": "Python 3",
   "language": "python",
   "name": "python3"
  },
  "language_info": {
   "codemirror_mode": {
    "name": "ipython",
    "version": 3
   },
   "file_extension": ".py",
   "mimetype": "text/x-python",
   "name": "python",
   "nbconvert_exporter": "python",
   "pygments_lexer": "ipython3",
   "version": "3.8.3"
  },
  "toc": {
   "base_numbering": 1,
   "nav_menu": {},
   "number_sections": true,
   "sideBar": true,
   "skip_h1_title": false,
   "title_cell": "Table of Contents",
   "title_sidebar": "Contents",
   "toc_cell": false,
   "toc_position": {},
   "toc_section_display": true,
   "toc_window_display": true
  },
  "varInspector": {
   "cols": {
    "lenName": 16,
    "lenType": 16,
    "lenVar": 40
   },
   "kernels_config": {
    "python": {
     "delete_cmd_postfix": "",
     "delete_cmd_prefix": "del ",
     "library": "var_list.py",
     "varRefreshCmd": "print(var_dic_list())"
    },
    "r": {
     "delete_cmd_postfix": ") ",
     "delete_cmd_prefix": "rm(",
     "library": "var_list.r",
     "varRefreshCmd": "cat(var_dic_list()) "
    }
   },
   "types_to_exclude": [
    "module",
    "function",
    "builtin_function_or_method",
    "instance",
    "_Feature"
   ],
   "window_display": false
  }
 },
 "nbformat": 4,
 "nbformat_minor": 4
}
